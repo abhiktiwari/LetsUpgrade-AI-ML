{
 "cells": [
  {
   "cell_type": "markdown",
   "metadata": {},
   "source": [
    "## ASSIGNMENT 4: \n",
    "**Question 1 :**\n",
    "Research on whether addition, subtraction, multiplication, division, floor division and modulo\n",
    "operations be performed on complex numbers. Based on your study, implement a Python\n",
    "program to demonstrate these operations.\n",
    "**Question 2 :**\n",
    "Research on range() functions and its parameters. Create a markdown cell and write in your own\n",
    "words (no copy-paste from google please) what you understand about it. Implement a small\n",
    "program of your choice on the same.\n",
    "**Question 3:**\n",
    "Consider two numbers. Perform their subtraction and if the result of subtraction is greater than\n",
    "25, print their multiplication result else print their division result.\n",
    "**Question 4:**\n",
    "Consider a list of 10 elements of integer values. If the number in the list is divisible by 2, print the\n",
    "result as \"square of that number minus 2\".\n",
    "**Question 5:**\n",
    "Consider a list of 10 elements. Print all the elements in the list which are greater than 7 when that\n",
    "number is divided 2."
   ]
  },
  {
   "cell_type": "markdown",
   "metadata": {},
   "source": [
    "**ANSWER 1**"
   ]
  },
  {
   "cell_type": "code",
   "execution_count": 4,
   "metadata": {},
   "outputs": [
    {
     "name": "stdout",
     "output_type": "stream",
     "text": [
      "Addition of Complex Numbers a and b=  (8+10j)\n",
      "\n",
      "\n",
      "Subtraction of Complex Numbers a and b=  (-4-4j)\n",
      "\n",
      "\n",
      "Multiplication of Complex Numbers a and b=  (-9+32j)\n",
      "\n",
      "\n",
      "Division of Complex Numbers a and b=  (0.38823529411764707+0.04705882352941174j)\n",
      "\n",
      "\n"
     ]
    },
    {
     "ename": "TypeError",
     "evalue": "can't take floor of complex number.",
     "output_type": "error",
     "traceback": [
      "\u001b[0;31m---------------------------------------------------------------------------\u001b[0m",
      "\u001b[0;31mTypeError\u001b[0m                                 Traceback (most recent call last)",
      "\u001b[0;32m<ipython-input-4-9788a0fd7c0e>\u001b[0m in \u001b[0;36m<module>\u001b[0;34m\u001b[0m\n\u001b[1;32m     18\u001b[0m \u001b[0mprint\u001b[0m\u001b[0;34m(\u001b[0m\u001b[0;34m\"\\n\"\u001b[0m\u001b[0;34m)\u001b[0m\u001b[0;34m\u001b[0m\u001b[0;34m\u001b[0m\u001b[0m\n\u001b[1;32m     19\u001b[0m \u001b[0;34m\u001b[0m\u001b[0m\n\u001b[0;32m---> 20\u001b[0;31m \u001b[0mprint\u001b[0m\u001b[0;34m(\u001b[0m\u001b[0;34m\"Floor Division of Complex Numbers a and b= \"\u001b[0m\u001b[0;34m,\u001b[0m \u001b[0ma\u001b[0m\u001b[0;34m//\u001b[0m\u001b[0mb\u001b[0m\u001b[0;34m)\u001b[0m\u001b[0;34m\u001b[0m\u001b[0;34m\u001b[0m\u001b[0m\n\u001b[0m\u001b[1;32m     21\u001b[0m \u001b[0mprint\u001b[0m\u001b[0;34m(\u001b[0m\u001b[0;34m\"\\n\"\u001b[0m\u001b[0;34m)\u001b[0m\u001b[0;34m\u001b[0m\u001b[0;34m\u001b[0m\u001b[0m\n",
      "\u001b[0;31mTypeError\u001b[0m: can't take floor of complex number."
     ]
    }
   ],
   "source": [
    "#Python program to demonstrate addition, subtraction, multiplication, division, floor division and modulo\n",
    "# operations on complex numbers. As demonstrated below, Floor Divison and Modulo of two complex numbers are \n",
    "# not possible.\n",
    "\n",
    "a= 2+3j    # Complex Number a\n",
    "b= 6+7j    # Complex Number b\n",
    "\n",
    "print(\"Addition of Complex Numbers a and b= \", a+b)\n",
    "print(\"\\n\")\n",
    "\n",
    "print(\"Subtraction of Complex Numbers a and b= \", a-b)\n",
    "print(\"\\n\")\n",
    "\n",
    "print(\"Multiplication of Complex Numbers a and b= \", a*b)\n",
    "print(\"\\n\")\n",
    "\n",
    "print(\"Division of Complex Numbers a and b= \", a/b)\n",
    "print(\"\\n\")\n",
    "\n",
    "print(\"Floor Division of Complex Numbers a and b= \", a//b)\n",
    "print(\"\\n\")\n"
   ]
  },
  {
   "cell_type": "code",
   "execution_count": 2,
   "metadata": {},
   "outputs": [
    {
     "ename": "TypeError",
     "evalue": "can't mod complex numbers.",
     "output_type": "error",
     "traceback": [
      "\u001b[0;31m---------------------------------------------------------------------------\u001b[0m",
      "\u001b[0;31mTypeError\u001b[0m                                 Traceback (most recent call last)",
      "\u001b[0;32m<ipython-input-2-1245ee033bb0>\u001b[0m in \u001b[0;36m<module>\u001b[0;34m\u001b[0m\n\u001b[1;32m      2\u001b[0m \u001b[0mb\u001b[0m\u001b[0;34m=\u001b[0m \u001b[0;36m6\u001b[0m\u001b[0;34m+\u001b[0m\u001b[0;36m7j\u001b[0m    \u001b[0;31m# Complex Number b\u001b[0m\u001b[0;34m\u001b[0m\u001b[0;34m\u001b[0m\u001b[0m\n\u001b[1;32m      3\u001b[0m \u001b[0;34m\u001b[0m\u001b[0m\n\u001b[0;32m----> 4\u001b[0;31m \u001b[0mprint\u001b[0m\u001b[0;34m(\u001b[0m\u001b[0;34m\"Modulo of Complex Numbers a over b= \"\u001b[0m\u001b[0;34m,\u001b[0m \u001b[0ma\u001b[0m\u001b[0;34m%\u001b[0m\u001b[0mb\u001b[0m\u001b[0;34m)\u001b[0m\u001b[0;34m\u001b[0m\u001b[0;34m\u001b[0m\u001b[0m\n\u001b[0m",
      "\u001b[0;31mTypeError\u001b[0m: can't mod complex numbers."
     ]
    }
   ],
   "source": [
    "a= 2+3j    # Complex Number a\n",
    "b= 6+7j    # Complex Number b\n",
    "\n",
    "print(\"Modulo of Complex Numbers a over b= \", a%b)"
   ]
  },
  {
   "cell_type": "markdown",
   "metadata": {},
   "source": [
    "---------------------------------------**ANSWER 1 ENDS**---------------------------------------"
   ]
  },
  {
   "cell_type": "markdown",
   "metadata": {},
   "source": [
    "---------------------------------------**ANSWER 2 BEGINS**-------------------------------------"
   ]
  },
  {
   "cell_type": "markdown",
   "metadata": {},
   "source": [
    "**RANGE()** :\n",
    "Range function is used *to generate sequence/series of numbers* and is often *used in loops* such as to iterate on List, tuple, dict, strings and other sequence types. Range is often used with *for or while loops*. \n",
    "There are **3 parameter/argument types of Range Function**. They are:\n",
    "<ol>\n",
    "    <li><b>Start Integer</b>. It represents the integer from series of numbers is to be generated. Default value is 0.</li>\n",
    "    <li><b>End Integer(Stop)</b>. It represents the integer number before which to stop.</li>\n",
    "    <li><b>Step</b>. It represents the gap between the sequence of numbers displayed.</li>\n",
    "</ol>    \n",
    "\n",
    "**Syntax:** *range(Start, Stop, Step)*\n",
    "\n",
    "Range function can be used in following three ways:\n",
    "<ol>\n",
    "<li><b>range(n)</b> Returns the numbers from *0 to n-1*.</li>\n",
    "<li><b>range(Start, Stop)</b> Returns the numbers *from Start number to Stop number -1*</li>\n",
    "<li><b>range(Start, Stop, Step)</b> Returns the numbers *from start till Stop number -1 with gaps equal to step*</li>\n",
    "</ol>\n",
    "Find below the implementation of the above methods.\n",
    "\n",
    "    "
   ]
  },
  {
   "cell_type": "code",
   "execution_count": 9,
   "metadata": {},
   "outputs": [
    {
     "name": "stdout",
     "output_type": "stream",
     "text": [
      "0 1 2 3 4 "
     ]
    }
   ],
   "source": [
    "# Method A\n",
    "\n",
    "\n",
    "for x in range(5):\n",
    "    print(x, end=\" \")\n"
   ]
  },
  {
   "cell_type": "code",
   "execution_count": 10,
   "metadata": {},
   "outputs": [
    {
     "name": "stdout",
     "output_type": "stream",
     "text": [
      "2\n",
      "3\n",
      "4\n",
      "5\n",
      "6\n",
      "7\n",
      "8\n",
      "9\n",
      "10\n"
     ]
    }
   ],
   "source": [
    "# Method 2\n",
    "\n",
    "for x in range(2,11):\n",
    "    print(x)"
   ]
  },
  {
   "cell_type": "code",
   "execution_count": 12,
   "metadata": {},
   "outputs": [
    {
     "name": "stdout",
     "output_type": "stream",
     "text": [
      "1  4  7  10  13  16  19  22  25  28  "
     ]
    }
   ],
   "source": [
    "# Method 3\n",
    "for x in range(1,31,3):\n",
    "    print(x, end=\"  \")"
   ]
  },
  {
   "cell_type": "markdown",
   "metadata": {},
   "source": [
    "---------------------------------------**ANSWER 2 ENDS**---------------------------------------"
   ]
  },
  {
   "cell_type": "markdown",
   "metadata": {},
   "source": [
    "---------------------------------------**ANSWER 3 BEGINS**-------------------------------------"
   ]
  },
  {
   "cell_type": "code",
   "execution_count": 16,
   "metadata": {},
   "outputs": [
    {
     "name": "stdout",
     "output_type": "stream",
     "text": [
      "First number a= 21\n",
      "Second number b= 3\n",
      "Subtraction of a and b is c= 18\n",
      "Divison of a over b= 7.0\n"
     ]
    }
   ],
   "source": [
    "# Demo 1:\n",
    "\n",
    "a= 21\n",
    "b= 3\n",
    "c= a-b\n",
    "print(\"First number a=\", a)\n",
    "print(\"Second number b=\", b)\n",
    "print(\"Subtraction of a and b is c=\", c)\n",
    "\n",
    "if c > 25:\n",
    "    d= a*b\n",
    "    print(\"Multiplication of a and b=\", d)\n",
    "elif c <= 25:\n",
    "    e= a/b\n",
    "    print(\"Divison of a over b=\", e)"
   ]
  },
  {
   "cell_type": "code",
   "execution_count": 17,
   "metadata": {},
   "outputs": [
    {
     "name": "stdout",
     "output_type": "stream",
     "text": [
      "First number a= 32\n",
      "Second number b= 2\n",
      "Subtraction of a and b is c= 30\n",
      "Multiplication of a and b= 64\n"
     ]
    }
   ],
   "source": [
    "#Demo 2\n",
    "\n",
    "a= 32\n",
    "b= 2\n",
    "c= a-b\n",
    "print(\"First number a=\", a)\n",
    "print(\"Second number b=\", b)\n",
    "print(\"Subtraction of a and b is c=\", c)\n",
    "\n",
    "if c > 25:\n",
    "    d= a*b\n",
    "    print(\"Multiplication of a and b=\", d)\n",
    "elif c <= 25:\n",
    "    e= a/b\n",
    "    print(\"Divison of a over b=\", e)"
   ]
  },
  {
   "cell_type": "markdown",
   "metadata": {},
   "source": [
    "---------------------------------------**ANSWER 3 ENDS**---------------------------------------"
   ]
  },
  {
   "cell_type": "markdown",
   "metadata": {},
   "source": [
    "---------------------------------------**ANSWER 4 BEGINS**-------------------------------------"
   ]
  },
  {
   "cell_type": "code",
   "execution_count": 24,
   "metadata": {},
   "outputs": [
    {
     "name": "stdout",
     "output_type": "stream",
     "text": [
      "Desired values are all even numbers squared - 2 and are=\n",
      "142\n",
      "398\n",
      "574\n",
      "1762\n",
      "2498\n"
     ]
    }
   ],
   "source": [
    "#List of numbers represented by l below.\n",
    "\n",
    "l= [7,12,15,20,24,29,35,42,45,50]   \n",
    "print(\"Desired values are all even numbers squared - 2 and are=\")\n",
    "for i in range(len(l)):\n",
    "    if l[i]%2==0:\n",
    "        a= (l[i]**(2))-2\n",
    "        print(a)"
   ]
  },
  {
   "cell_type": "markdown",
   "metadata": {},
   "source": [
    "---------------------------------------**ANSWER 4 ENDS**---------------------------------------"
   ]
  },
  {
   "cell_type": "markdown",
   "metadata": {},
   "source": [
    "---------------------------------------**ANSWER 5 BEGINS**-------------------------------------"
   ]
  },
  {
   "cell_type": "code",
   "execution_count": 34,
   "metadata": {},
   "outputs": [
    {
     "name": "stdout",
     "output_type": "stream",
     "text": [
      "Desired values are all numbers in the list greater than 7 after divison by 2=\n",
      "35.0\n",
      "35.0\n",
      "35.0\n",
      "20\n",
      "22\n",
      "29\n",
      "39\n",
      "42\n",
      "48\n",
      "70\n"
     ]
    }
   ],
   "source": [
    "#List of numbers represented by l below.\n",
    "\n",
    "l = [2,5,9,20,22,29,39,42,48,70]   \n",
    "print(\"Desired values are all numbers in the list greater than 7 after divison by 2=\")\n",
    "for i in range(len(l)):\n",
    "    if l[i]/2>7:\n",
    "        a=l[i]\n",
    "    print(a)"
   ]
  },
  {
   "cell_type": "code",
   "execution_count": null,
   "metadata": {},
   "outputs": [],
   "source": []
  }
 ],
 "metadata": {
  "kernelspec": {
   "display_name": "Python 3",
   "language": "python",
   "name": "python3"
  },
  "language_info": {
   "codemirror_mode": {
    "name": "ipython",
    "version": 3
   },
   "file_extension": ".py",
   "mimetype": "text/x-python",
   "name": "python",
   "nbconvert_exporter": "python",
   "pygments_lexer": "ipython3",
   "version": "3.7.6"
  },
  "toc": {
   "base_numbering": 1,
   "nav_menu": {},
   "number_sections": true,
   "sideBar": true,
   "skip_h1_title": false,
   "title_cell": "Table of Contents",
   "title_sidebar": "Contents",
   "toc_cell": false,
   "toc_position": {},
   "toc_section_display": true,
   "toc_window_display": false
  }
 },
 "nbformat": 4,
 "nbformat_minor": 4
}
