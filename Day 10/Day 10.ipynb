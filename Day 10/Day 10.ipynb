{
 "cells": [
  {
   "cell_type": "markdown",
   "metadata": {},
   "source": [
    "-------------------------------------------**ASSIGNMENT 10**----------------------------------------------------------\n",
    "**QUESTION\n",
    "● A sizable department has to be maintained, for the purposes of recruiting new talent ● More often than not, the new employees have to be trained for the job and/or given time to acclimatize themselves to the company ● Hence, the management has contracted an HR analytics firm to understand what factors they should focus on, in order to curb attrition.\n",
    "● In other words, they want to know what changes they should make to their workplace, in order to get most of their employees to stay.\n",
    "● Also, they want to know which of these variables is most important and needs to be addressed right away.**"
   ]
  },
  {
   "cell_type": "markdown",
   "metadata": {},
   "source": [
    "*Following are the 10 hypothesis based on the given Dataset:*\n",
    "\n",
    "1. If the stockoption level is low, then attrition rate is found to be high.\n",
    "<br>\n",
    "2. Gender wise disparity suggests males tend to have higher attrition than females.\n",
    "<br>\n",
    "3. Employee having mean income aound 62000 have higher attrition rate.\n",
    "<br>\n",
    "4. Employee with higher attrition has mode value around one year in terms of years of experience.\n",
    "<br>\n",
    "5. At Lower Job levels attrition rate tends to be higher.\n",
    "<br>\n",
    "6. If current manager relation and shift in manager is less than attrition goes higher.\n",
    "<br>\n",
    "7. Most of the employees with attrition are from medical and life sciences background. \n",
    "<br>\n",
    "8. R and D department employee have higher attrition compared to some other departments.\n",
    "<br>\n",
    "9. With the rise in salary in percentages, attrition rate shoots up.\n",
    "<br>\n",
    "10. Mean age of employee with higher attrition is around 33."
   ]
  }
 ],
 "metadata": {
  "kernelspec": {
   "display_name": "Python 3",
   "language": "python",
   "name": "python3"
  },
  "language_info": {
   "codemirror_mode": {
    "name": "ipython",
    "version": 3
   },
   "file_extension": ".py",
   "mimetype": "text/x-python",
   "name": "python",
   "nbconvert_exporter": "python",
   "pygments_lexer": "ipython3",
   "version": "3.7.6"
  },
  "toc": {
   "base_numbering": 1,
   "nav_menu": {},
   "number_sections": true,
   "sideBar": true,
   "skip_h1_title": false,
   "title_cell": "Table of Contents",
   "title_sidebar": "Contents",
   "toc_cell": false,
   "toc_position": {},
   "toc_section_display": true,
   "toc_window_display": false
  }
 },
 "nbformat": 4,
 "nbformat_minor": 4
}
