{
 "cells": [
  {
   "cell_type": "code",
   "execution_count": 89,
   "metadata": {},
   "outputs": [],
   "source": [
    "import numpy as np\n",
    "import pandas as pd\n",
    "from numpy import random"
   ]
  },
  {
   "cell_type": "markdown",
   "metadata": {},
   "source": [
    "# : Create a 3x3x3 array with random values"
   ]
  },
  {
   "cell_type": "code",
   "execution_count": 90,
   "metadata": {},
   "outputs": [
    {
     "name": "stdout",
     "output_type": "stream",
     "text": [
      "[[[0.20592264 0.80794964 0.35302608]\n",
      "  [0.9198037  0.85117441 0.60800128]\n",
      "  [0.8677465  0.09355955 0.59815636]]\n",
      "\n",
      " [[0.07941687 0.11810066 0.89119775]\n",
      "  [0.90998214 0.8158598  0.71643017]\n",
      "  [0.17628482 0.92135677 0.13265335]]\n",
      "\n",
      " [[0.69591476 0.19517738 0.28269108]\n",
      "  [0.12644002 0.92427603 0.48835428]\n",
      "  [0.84415453 0.8826246  0.79484245]]]\n"
     ]
    }
   ],
   "source": [
    "a = np.random.random((3,3,3))\n",
    "print(a)"
   ]
  },
  {
   "cell_type": "markdown",
   "metadata": {},
   "source": [
    "# : Create a 5x5 matrix with values 1,2,3,4 just below the diagonal"
   ]
  },
  {
   "cell_type": "code",
   "execution_count": 91,
   "metadata": {},
   "outputs": [
    {
     "name": "stdout",
     "output_type": "stream",
     "text": [
      "[[0. 0. 0. 0. 0.]\n",
      " [1. 0. 0. 0. 0.]\n",
      " [0. 2. 0. 0. 0.]\n",
      " [0. 0. 3. 0. 0.]\n",
      " [0. 0. 0. 4. 0.]]\n"
     ]
    }
   ],
   "source": [
    "import numpy as np\n",
    "m = np.zeros((5,5))\n",
    "m[1][0] = 1\n",
    "m[2][1] = 2\n",
    "m[3][2] = 3\n",
    "m[4][3] = 4\n",
    "print(m)"
   ]
  },
  {
   "cell_type": "markdown",
   "metadata": {},
   "source": [
    "# : Create a 8x8 matrix and fill it with a checkerboard pattern"
   ]
  },
  {
   "cell_type": "code",
   "execution_count": 92,
   "metadata": {},
   "outputs": [
    {
     "name": "stdout",
     "output_type": "stream",
     "text": [
      "[[0. 1. 0. 1. 0. 1. 0. 1.]\n",
      " [1. 0. 1. 0. 1. 0. 1. 0.]\n",
      " [0. 1. 0. 1. 0. 1. 0. 1.]\n",
      " [1. 0. 1. 0. 1. 0. 1. 0.]\n",
      " [0. 1. 0. 1. 0. 1. 0. 1.]\n",
      " [1. 0. 1. 0. 1. 0. 1. 0.]\n",
      " [0. 1. 0. 1. 0. 1. 0. 1.]\n",
      " [1. 0. 1. 0. 1. 0. 1. 0.]]\n"
     ]
    }
   ],
   "source": [
    "import numpy as np\n",
    "a= np.zeros((8,8))\n",
    "a[1::2,::2], a[::2,1::2] = 1, 1\n",
    "print(a)"
   ]
  },
  {
   "cell_type": "markdown",
   "metadata": {},
   "source": [
    "# : Normalize a 5 x 5 Random Matrix"
   ]
  },
  {
   "cell_type": "code",
   "execution_count": 93,
   "metadata": {},
   "outputs": [
    {
     "name": "stdout",
     "output_type": "stream",
     "text": [
      "Random Array : \n",
      "[[40 45 36  8  9]\n",
      " [13  5 15  9 32]\n",
      " [20 44 36 26 39]\n",
      " [26 46 29 46 14]\n",
      " [45 29 37 39 27]]\n",
      "\n",
      "Normalized Random Array : \n",
      "[[0.2537497  0.28546841 0.22837473 0.05074994 0.05709368]\n",
      " [0.08246865 0.03171871 0.09515614 0.05709368 0.20299976]\n",
      " [0.12687485 0.27912467 0.22837473 0.1649373  0.24740596]\n",
      " [0.1649373  0.29181215 0.18396853 0.29181215 0.08881239]\n",
      " [0.28546841 0.18396853 0.23471847 0.24740596 0.17128105]]\n"
     ]
    }
   ],
   "source": [
    "import numpy as np\n",
    "from numpy import random\n",
    "\n",
    "arr = np.random.randint(5,50,(5,5)) # random numpy array of shape (4,5)\n",
    "print(\"Random Array : \")\n",
    "print(arr)\n",
    "\n",
    "# To normalize given array 'arr' using Linear Algebra 'linalg' from numpy\n",
    "norm = np.linalg.norm(arr)\n",
    "norm_arr = arr/norm\n",
    "print(end= '\\n')\n",
    "print(\"Normalized Random Array : \")\n",
    "print(norm_arr)\n"
   ]
  },
  {
   "cell_type": "markdown",
   "metadata": {},
   "source": [
    "# : How to find common values between two arrays?\n"
   ]
  },
  {
   "cell_type": "code",
   "execution_count": 94,
   "metadata": {},
   "outputs": [
    {
     "name": "stdout",
     "output_type": "stream",
     "text": [
      "Common values between given two arrays are:  [ 6 18]\n"
     ]
    }
   ],
   "source": [
    "import numpy as np\n",
    "\n",
    "arr1 = [2,4,6,12,18]\n",
    "arr2 = [3,6,9,18,27,21]\n",
    "\n",
    "common_values = np.intersect1d(arr1, arr2)\n",
    "print(\"Common values between given two arrays are: \", common_values)"
   ]
  },
  {
   "cell_type": "markdown",
   "metadata": {},
   "source": [
    "# : How to get the dates of yesterday, today and tomorrow?"
   ]
  },
  {
   "cell_type": "code",
   "execution_count": 95,
   "metadata": {},
   "outputs": [
    {
     "name": "stdout",
     "output_type": "stream",
     "text": [
      "30/03/2021\n",
      "\n",
      "03-31-2021\n",
      "\n",
      "2021-04-01\n"
     ]
    }
   ],
   "source": [
    "import datetime\n",
    "\n",
    "\n",
    "today=datetime.date.today()\n",
    "\n",
    "yesterday = today - datetime.timedelta(days=1)\n",
    "\n",
    "tomorrow  = today + datetime.timedelta(days=1)\n",
    "\n",
    "print(yesterday.strftime('%d/%m/%Y'))\n",
    "print(end = '\\n')\n",
    "print(today.strftime('%m-%d-%Y'))\n",
    "print(end = '\\n')\n",
    "print(tomorrow)"
   ]
  },
  {
   "cell_type": "markdown",
   "metadata": {},
   "source": [
    "# : Consider two random array A and B, check if they are equal"
   ]
  },
  {
   "cell_type": "code",
   "execution_count": 96,
   "metadata": {},
   "outputs": [
    {
     "name": "stdout",
     "output_type": "stream",
     "text": [
      "First array:  [[3 4 2]\n",
      " [7 9 9]\n",
      " [5 3 8]]\n",
      "Second array:  [[6 7 8]\n",
      " [5 2 6]\n",
      " [8 4 9]]\n",
      "The two given arrays are not Equal.\n"
     ]
    }
   ],
   "source": [
    "from numpy import random\n",
    "arr1 = random.randint(2, 10 , (3,3), dtype =int)\n",
    "arr2 = random.randint(2,10, (3,3), dtype =int)\n",
    "\n",
    "print(\"First array: \", arr1, end= '\\n')\n",
    "print(\"Second array: \", arr2, end= '\\n')\n",
    "\n",
    "if (arr1==arr2).all():\n",
    "    print(\"The two given arrays are Equal.\")\n",
    "else:\n",
    "    print(\"The two given arrays are not Equal.\")\n"
   ]
  },
  {
   "cell_type": "markdown",
   "metadata": {},
   "source": [
    "# : Create random vector of size 10 and replace the maximum value by 0"
   ]
  },
  {
   "cell_type": "code",
   "execution_count": 97,
   "metadata": {},
   "outputs": [
    {
     "name": "stdout",
     "output_type": "stream",
     "text": [
      "[0.67515173 0.31279435 0.13999914 0.64160831 0.24074236 0.70580945\n",
      " 0.72309781 0.31311053 0.01071366 0.15424407]\n",
      "\n",
      "\n",
      "[0.67515173 0.31279435 0.13999914 0.64160831 0.24074236 0.70580945\n",
      " 0.         0.31311053 0.01071366 0.15424407]\n"
     ]
    }
   ],
   "source": [
    "import numpy as np\n",
    "import random\n",
    "\n",
    "rvec = np.random.rand(10)\n",
    "print(rvec)\n",
    "\n",
    "print('\\n')\n",
    "\n",
    "max_num = np.where(rvec == rvec.max())\n",
    "rvec[max_num] = 0\n",
    "\n",
    "print(rvec)\n"
   ]
  },
  {
   "cell_type": "markdown",
   "metadata": {},
   "source": [
    "# : How to print all the values of an array?"
   ]
  },
  {
   "cell_type": "code",
   "execution_count": 106,
   "metadata": {},
   "outputs": [
    {
     "name": "stdout",
     "output_type": "stream",
     "text": [
      "[[1 2 3]\n",
      " [4 5 6]\n",
      " [7 8 9]]\n"
     ]
    }
   ],
   "source": [
    "arr = np.array([[1,2,3], [4,5,6], [7,8,9]])\n",
    "print(arr)"
   ]
  },
  {
   "cell_type": "markdown",
   "metadata": {},
   "source": [
    "# : Subtract the mean of each row of a matrix"
   ]
  },
  {
   "cell_type": "code",
   "execution_count": 116,
   "metadata": {},
   "outputs": [
    {
     "name": "stdout",
     "output_type": "stream",
     "text": [
      "Given Array:  [[ 3 11  8]\n",
      " [12  9  9]\n",
      " [ 4 12  3]]\n",
      " \n",
      "New Array with Subtracted mean is: \n",
      "[[-4.33333333  3.66666667  0.66666667]\n",
      " [ 2.         -1.         -1.        ]\n",
      " [-2.33333333  5.66666667 -3.33333333]]\n"
     ]
    }
   ],
   "source": [
    "import numpy as np\n",
    "import random\n",
    "\n",
    "arr = np.random.randint(2,15, (3,3), dtype= int)\n",
    "print(\"Given Array: \", arr, end='\\n \\n')\n",
    "\n",
    "new_arr = arr - np.mean(arr, axis =1, keepdims=True)\n",
    "print(\"New Array with Subtracted mean is: \", end='\\n')\n",
    "print(new_arr)"
   ]
  },
  {
   "cell_type": "markdown",
   "metadata": {},
   "source": [
    "# : Consider a given vector, how to add 1 to each element indexed by a second vector (be careful with repeated indices)?"
   ]
  },
  {
   "cell_type": "code",
   "execution_count": 137,
   "metadata": {},
   "outputs": [
    {
     "name": "stdout",
     "output_type": "stream",
     "text": [
      "[ 3  3  7  8 10]\n"
     ]
    }
   ],
   "source": [
    "def repeated(vec):\n",
    "    dup_items = set()\n",
    "    uniq_items = []\n",
    "    for x in vec:\n",
    "        if x not in dup_items:\n",
    "            uniq_items.append(x)\n",
    "            dup_items.add(x)\n",
    "    return uniq_items\n",
    "    \n",
    "import numpy as np\n",
    "vec = np.array([3,2,6,7,9])\n",
    "index = np.array([4,2,3,1,2])\n",
    "new_index=repeated(index)\n",
    "for a in new_index:\n",
    "    vec[a]=vec[a]+1\n",
    "print(vec)"
   ]
  },
  {
   "cell_type": "markdown",
   "metadata": {},
   "source": [
    "# : How to get the diagonal of a dot product?"
   ]
  },
  {
   "cell_type": "code",
   "execution_count": 121,
   "metadata": {},
   "outputs": [
    {
     "name": "stdout",
     "output_type": "stream",
     "text": [
      "[[ 8  9 13]\n",
      " [28 41 49]\n",
      " [51 74 89]]\n",
      "\n",
      "\n",
      "[ 8 41 89]\n"
     ]
    }
   ],
   "source": [
    "arr1 = np.array([[1,2], [5,6], [9,11]])\n",
    "arr2 = np.array([[2,7,5],[3,1,4]])\n",
    "\n",
    "arr_prod = arr1.dot(arr2)\n",
    "print(arr_prod)\n",
    "print('\\n')\n",
    "print(np.diagonal(arr_prod))"
   ]
  },
  {
   "cell_type": "markdown",
   "metadata": {},
   "source": [
    "# : How to find the most frequent value in an array?"
   ]
  },
  {
   "cell_type": "code",
   "execution_count": 128,
   "metadata": {},
   "outputs": [
    {
     "name": "stdout",
     "output_type": "stream",
     "text": [
      "[3]\n"
     ]
    }
   ],
   "source": [
    "import numpy as np\n",
    "from scipy import stats\n",
    "\n",
    "arr = np.array([12,3,2,5,3,6,3,9,10])\n",
    "feq= stats.mode(arr)\n",
    "print(feq[0])\n",
    "\n",
    "#bin = np.bincount(arr)\n",
    "#print(bin.argmax())"
   ]
  },
  {
   "cell_type": "markdown",
   "metadata": {},
   "source": [
    "# : How to get the n largest values of an array"
   ]
  },
  {
   "cell_type": "code",
   "execution_count": 129,
   "metadata": {},
   "outputs": [
    {
     "name": "stdout",
     "output_type": "stream",
     "text": [
      "[29 30 33 41]\n"
     ]
    }
   ],
   "source": [
    "import numpy as np\n",
    "\n",
    "arr = np.array([21, 13, 41, 29, 15, 7, 30, 33])\n",
    "n=4\n",
    "lar_arr = arr[np.argsort(arr)]\n",
    "print(lar_arr[-n:])"
   ]
  },
  {
   "cell_type": "markdown",
   "metadata": {},
   "source": [
    "# : How to create a record array from a regular array?"
   ]
  },
  {
   "cell_type": "code",
   "execution_count": 130,
   "metadata": {},
   "outputs": [
    {
     "name": "stdout",
     "output_type": "stream",
     "text": [
      "Regular Array: \n",
      " [['Abhishek' '34' '189']\n",
      " ['Hanu' '31' '163']\n",
      " ['Abhinav' '32' '174']]\n",
      "\n",
      " Record Array;\n",
      "[('Abhishek', '34', '189') ('Hanu', '31', '163') ('Abhinav', '32', '174')]\n"
     ]
    }
   ],
   "source": [
    "import numpy as np\n",
    "\n",
    "arr1 = np.array([(\"Abhishek\", 34, 189),\n",
    "                 (\"Hanu\", 31, 163),\n",
    "             (\"Abhinav\", 32, 174)])\n",
    "print(\"Regular Array: \\n\", arr1)\n",
    "#print(arr1)\n",
    "print(\"\\n Record Array;\")\n",
    "\n",
    "fin_arr = np.core.records.fromarrays(arr1.T,\n",
    "                              names='NAME, AGE, Height')\n",
    "print(fin_arr)"
   ]
  }
 ],
 "metadata": {
  "kernelspec": {
   "display_name": "Python 3",
   "language": "python",
   "name": "python3"
  },
  "language_info": {
   "codemirror_mode": {
    "name": "ipython",
    "version": 3
   },
   "file_extension": ".py",
   "mimetype": "text/x-python",
   "name": "python",
   "nbconvert_exporter": "python",
   "pygments_lexer": "ipython3",
   "version": "3.7.9"
  },
  "toc": {
   "base_numbering": 1,
   "nav_menu": {},
   "number_sections": true,
   "sideBar": true,
   "skip_h1_title": false,
   "title_cell": "Table of Contents",
   "title_sidebar": "Contents",
   "toc_cell": false,
   "toc_position": {},
   "toc_section_display": true,
   "toc_window_display": false
  }
 },
 "nbformat": 4,
 "nbformat_minor": 4
}
