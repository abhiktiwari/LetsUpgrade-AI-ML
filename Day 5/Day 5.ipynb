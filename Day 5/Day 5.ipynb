{
 "cells": [
  {
   "cell_type": "markdown",
   "metadata": {},
   "source": [
    "# ASSIGNMENT 5: \n",
    "**Question 1** :\n",
    "Write a Python program to find the first 20 non-even prime natural numbers.\n",
    "**Question 2** :\n",
    "Write a Python program to implement 15 functions of string.\n",
    "**Question 3** :\n",
    "Write a Python program to check if the given string is a Palindrome or Anagram or None of them.\n",
    "Display the message accordingly to the user.\n",
    "**Question 4** :\n",
    "Write a Python's user defined function that removes all the additional characters from the string\n",
    "and converts it finally to lower case using built-in lower(). eg: If the string is \"Dr. Darshan Ingle\n",
    "@AI-ML Trainer\", then the output be \"drdarshaningle aimltrainer\"."
   ]
  },
  {
   "cell_type": "markdown",
   "metadata": {},
   "source": [
    "------------------------------------------**ANSWER 1 Begins**------------------------------------------------------"
   ]
  },
  {
   "cell_type": "code",
   "execution_count": 2,
   "metadata": {},
   "outputs": [
    {
     "name": "stdout",
     "output_type": "stream",
     "text": [
      " 3   4   5   7   11   13   17   19   23   29   31   37   41   43   47   53   59   61   67   71  "
     ]
    }
   ],
   "source": [
    "         \n",
    "n = 3\n",
    "t = 0\n",
    "while t < 20:\n",
    "    count = 0\n",
    "    i = 3\n",
    "    \n",
    "    while i <= n//2:\n",
    "        if(n % i == 0):\n",
    "            count = count + 1\n",
    "            break\n",
    "        i = i + 1\n",
    "\n",
    "    if (count == 0 and n != 1):\n",
    "        print(\" %d\" %n, end = '  ')\n",
    "        t = t + 1\n",
    "    n = n  + 1"
   ]
  },
  {
   "cell_type": "markdown",
   "metadata": {},
   "source": [
    "------------------------------------------**ANSWER 1 Ends**------------------------------------------------------"
   ]
  },
  {
   "cell_type": "markdown",
   "metadata": {},
   "source": [
    "------------------------------------------**ANSWER 2 Begins**------------------------------------------------------"
   ]
  },
  {
   "cell_type": "code",
   "execution_count": 80,
   "metadata": {},
   "outputs": [
    {
     "name": "stdout",
     "output_type": "stream",
     "text": [
      "Following are the 15 functions on Strings\n",
      "\n",
      "\n",
      "EncycloPedia :Whitespaces are removed from the string\n",
      "\n",
      "\n",
      " ENCYCLOPEDIA  :All letters are in Uppercase\n",
      "\n",
      "\n",
      " encyclopedia  :All letters are in Lowercase\n",
      "\n",
      "\n",
      "True :All characters are alphabets\n",
      "\n",
      "\n",
      "2 :is the number of types cyclo has occurred\n",
      "\n",
      "\n",
      "20 :is the length of Encyclopedia cyclone\n",
      "\n",
      "\n",
      "Encyclopedia cyclone :First letter is capitalized\n",
      "\n",
      "\n",
      "eNCYCLOPEDIA cYCLONE :lower and uppercase letters are swapped in the given string\n",
      "\n",
      "\n",
      "13 :is the least index where cyc has first occurred in the given range\n",
      "\n",
      "\n",
      "Encyclopedia Thesaurus :Word cyclone is replaced by the word Thesauraus\n",
      "\n",
      "\n",
      "ncyclope :'Encyclopedia cyclone' string is Sliced to substring between index 1 to 9 including index 1\n",
      "\n",
      "\n",
      "enolcyc aidepolcycnE :'Encyclopedia cyclone' string is Reversed\n",
      "\n",
      "\n",
      "Encyclopedia cyclone :'Element 'c' at index 13 is not updated since item assignmnet is not supported\n",
      "\n",
      "\n",
      "Following three examples are 3 different ways to Format a String\n",
      "\n",
      "\n",
      "Format option in Python, is used for multiple substitiutions and value formatting.\n",
      "\n",
      "\n",
      "This assignment is part of AI/ML Course of Lets Upgrade\n",
      "\n",
      "\n",
      "This is part of Assignment of Day 5\n"
     ]
    }
   ],
   "source": [
    "# Program to implement 15 functions on Strings in Python.\n",
    "\n",
    "        \n",
    "def str_fun():\n",
    "    print(\"Following are the 15 functions on Strings\")\n",
    "    print(\"\\n\") \n",
    "    enter_str = \" EncycloPedia \"\n",
    "    \n",
    "    s = enter_str.strip()\n",
    "    print(s,\":Whitespaces are removed from the string\")\n",
    "    print(\"\\n\")        \n",
    "        \n",
    "    s = enter_str.upper()\n",
    "    print(s, \":All letters are in Uppercase\")\n",
    "    print(\"\\n\")\n",
    "    \n",
    "    s = enter_str.lower()\n",
    "    print(s, \":All letters are in Lowercase\")\n",
    "    print(\"\\n\")\n",
    "    \n",
    "    enter_str1 = \"EncycloPedia\"\n",
    "    s1= enter_str1.isalpha()\n",
    "    print(s1, \":All characters are alphabets\")\n",
    "    print(\"\\n\")\n",
    "    \n",
    "    enter_str1 = \"Encyclopedia cyclone\"\n",
    "    s1 = enter_str1.count('cyclo')\n",
    "    print(s1, \":is the number of types cyclo has occurred\")\n",
    "    print(\"\\n\")\n",
    "    \n",
    "    enter_str1 = \"Encyclopedia cyclone\"\n",
    "    s1 = len('Encyclopedia cyclone')\n",
    "    print(s1, \":is the length of Encyclopedia cyclone\")\n",
    "    print(\"\\n\")\n",
    "    \n",
    "    enter_str1 = \"encyclopedia cyclone\"\n",
    "    s1 = enter_str1.capitalize()\n",
    "    print(s1, \":First letter is capitalized\")\n",
    "    print(\"\\n\")\n",
    "    \n",
    "    enter_str1 = \"Encyclopedia Cyclone\"\n",
    "    s1 = enter_str1.swapcase()\n",
    "    print(s1, \":lower and uppercase letters are swapped in the given string\")\n",
    "    print(\"\\n\")\n",
    "    \n",
    "    enter_str1 = \"Encyclopedia cyclone\"\n",
    "    s1 = enter_str1.find('cyc',5,18)\n",
    "    print(s1, \":is the least index where cyc has first occurred in the given range\")\n",
    "    print(\"\\n\")\n",
    "    \n",
    "    enter_str1 = \"Encyclopedia cyclone\"\n",
    "    s1 = enter_str1.replace('cyclone','Thesaurus')\n",
    "    print(s1, \":Word cyclone is replaced by the word Thesauraus\")\n",
    "    print(\"\\n\")\n",
    "    \n",
    "    enter_str1 = \"Encyclopedia cyclone\"\n",
    "    s1 = enter_str1\n",
    "    print(s1[1:9], \":'Encyclopedia cyclone' string is Sliced to substring between index 1 to 9 including index 1\")\n",
    "    print(\"\\n\")\n",
    "    \n",
    "    enter_str1 = \"Encyclopedia cyclone\"\n",
    "    s1 = enter_str1\n",
    "    print(s1[::-1], \":'Encyclopedia cyclone' string is Reversed\")\n",
    "    print(\"\\n\")\n",
    "    \n",
    "    enter_str1 = \"Encyclopedia cyclone\"\n",
    "    s1 = enter_str1\n",
    "   # enter_str1[13] = 'C'\n",
    "    print(s1, \":'Element 'c' at index 13 is not updated since item assignmnet is not supported\")\n",
    "    print(\"\\n\")\n",
    "    \n",
    "    # Formatting a String\n",
    "    print(\"Following three examples are 3 different ways to Format a String\")\n",
    "    print(\"\\n\")\n",
    "    \n",
    "    print (\"{}, is used for multiple substitiutions and value formatting.\"\n",
    "                        .format(\"Format option in Python\")) \n",
    "    print(\"\\n\")\n",
    "    \n",
    "    str = \"This assignment is part of {}\"\n",
    "    print (str.format(\"AI/ML Course of Lets Upgrade\")) \n",
    "    print(\"\\n\")\n",
    "  \n",
    "    print (\"This is part of Assignment of Day {}\".format(5)) \n",
    "    \n",
    "str_fun()"
   ]
  },
  {
   "cell_type": "markdown",
   "metadata": {},
   "source": [
    "------------------------------------------**ANSWER 2 Ends**------------------------------------------------------"
   ]
  },
  {
   "cell_type": "markdown",
   "metadata": {},
   "source": [
    "------------------------------------------**ANSWER 3 Begins**------------------------------------------------------"
   ]
  },
  {
   "cell_type": "code",
   "execution_count": 3,
   "metadata": {},
   "outputs": [
    {
     "name": "stdout",
     "output_type": "stream",
     "text": [
      "Enter any string:Malayalam\n",
      "The string is a palindrome.\n"
     ]
    }
   ],
   "source": [
    "# Program to check if the given String is a Palindrome, Anagram or None\n",
    "\n",
    "x = input('Enter any string:')\n",
    "p = x.casefold()\n",
    "q = p[ ::-1]\n",
    "\n",
    "if list(p) == list(q):\n",
    "    print(\"The string is a palindrome.\")\n",
    "else:\n",
    "    a1 = input('Enter first string:')\n",
    "    a2 = input('Enter second string:')\n",
    "    if sorted(list(a1)) == sorted(list(a2)):\n",
    "        print(\"The strings are an Anagram and not Palindrome\")\n",
    "    else:\n",
    "        print(\"Entered strings are neither Palindrome nor Anagram\")"
   ]
  },
  {
   "cell_type": "code",
   "execution_count": 5,
   "metadata": {},
   "outputs": [
    {
     "name": "stdout",
     "output_type": "stream",
     "text": [
      "Enter any string:Garden\n",
      "Enter first string:gainly\n",
      "Enter second string:laying\n",
      "The strings are an Anagram and not Palindrome\n"
     ]
    }
   ],
   "source": [
    "x = input('Enter any string:')\n",
    "p = x.casefold()\n",
    "q = p[ ::-1]\n",
    "\n",
    "if list(p) == list(q):\n",
    "    print(\"The string is a palindrome.\")\n",
    "else:\n",
    "    a1 = input('Enter first string:')\n",
    "    a2 = input('Enter second string:')\n",
    "    if sorted(list(a1)) == sorted(list(a2)):\n",
    "        print(\"The strings are an Anagram and not Palindrome\")\n",
    "    else:\n",
    "        print(\"Entered strings are neither Palindrome nor Anagram\")"
   ]
  },
  {
   "cell_type": "code",
   "execution_count": 6,
   "metadata": {},
   "outputs": [
    {
     "name": "stdout",
     "output_type": "stream",
     "text": [
      "Enter any string:Dictionary\n",
      "Enter first string:groom \n",
      "Enter second string:moogr\n",
      "Entered strings are neither Palindrome nor Anagram\n"
     ]
    }
   ],
   "source": [
    "x = input('Enter any string:')\n",
    "p = x.casefold()\n",
    "q = p[ ::-1]\n",
    "\n",
    "if list(p) == list(q):\n",
    "    print(\"The string is a palindrome.\")\n",
    "else:\n",
    "    a1 = input('Enter first string:')\n",
    "    a2 = input('Enter second string:')\n",
    "    if sorted(list(a1)) == sorted(list(a2)):\n",
    "        print(\"The strings are an Anagram and not Palindrome\")\n",
    "    else:\n",
    "        print(\"Entered strings are neither Palindrome nor Anagram\")"
   ]
  },
  {
   "cell_type": "markdown",
   "metadata": {},
   "source": [
    "------------------------------------------**ANSWER 3 Ends**------------------------------------------------------"
   ]
  },
  {
   "cell_type": "markdown",
   "metadata": {},
   "source": [
    "------------------------------------------**ANSWER 4 Begins**------------------------------------------------------"
   ]
  },
  {
   "cell_type": "code",
   "execution_count": 48,
   "metadata": {},
   "outputs": [
    {
     "name": "stdout",
     "output_type": "stream",
     "text": [
      "drdarshaningleaimltrainer\n"
     ]
    }
   ],
   "source": [
    "# Program to implement Python's user defined function that removes all the additional characters from the string\n",
    "#and converts it finally to lower case using built-in lower().\n",
    "\n",
    "    \n",
    "\n",
    "\n",
    "special_char = '''!()-[]{};:'\"\\,<>./?@#$%^&*_~'''\n",
    "\n",
    "def rem_ws(string): \n",
    "    return \"\".join(string.split()) \n",
    "     \n",
    "string = \"Dr. Darshan Ingle @AI-ML Trainer\"\n",
    "x = rem_ws(string).lower()\n",
    "\n",
    "no_char = \"\"\n",
    "\n",
    "for char in x:\n",
    "    if char not in special_char:\n",
    "        no_char = no_char + char\n",
    "        \n",
    "print(no_char)"
   ]
  },
  {
   "cell_type": "markdown",
   "metadata": {},
   "source": [
    "---------------------------------------------**ANSWER 5 Ends**------------------------------------------------------"
   ]
  },
  {
   "cell_type": "markdown",
   "metadata": {},
   "source": [
    "------------------------------------------**ASSIGNMENT DAY 5 Ends**-------------------------------------------------"
   ]
  }
 ],
 "metadata": {
  "kernelspec": {
   "display_name": "Python 3",
   "language": "python",
   "name": "python3"
  },
  "language_info": {
   "codemirror_mode": {
    "name": "ipython",
    "version": 3
   },
   "file_extension": ".py",
   "mimetype": "text/x-python",
   "name": "python",
   "nbconvert_exporter": "python",
   "pygments_lexer": "ipython3",
   "version": "3.7.6"
  },
  "toc": {
   "base_numbering": 1,
   "nav_menu": {},
   "number_sections": true,
   "sideBar": true,
   "skip_h1_title": false,
   "title_cell": "Table of Contents",
   "title_sidebar": "Contents",
   "toc_cell": false,
   "toc_position": {},
   "toc_section_display": true,
   "toc_window_display": false
  }
 },
 "nbformat": 4,
 "nbformat_minor": 4
}
