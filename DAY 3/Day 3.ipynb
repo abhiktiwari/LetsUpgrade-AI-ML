{
 "cells": [
  {
   "cell_type": "code",
   "execution_count": 15,
   "metadata": {},
   "outputs": [
    {
     "name": "stdout",
     "output_type": "stream",
     "text": [
      "Subtraction of two complex numbers a and b = (-4+6j)\n"
     ]
    }
   ],
   "source": [
    "# Program to subtract two complex numbers in Python.\n",
    "#A complex number has real and imaginary parts and addition & subtraction happens of Real with Real parts and \n",
    "#Imaginary with Imaginary parts. \n",
    "\n",
    "a = 21 + 16j\n",
    "b = 25 + 10j\n",
    "print(\"Subtraction of two complex numbers a and b =\", (21+16j)-(25+10j))"
   ]
  },
  {
   "cell_type": "code",
   "execution_count": 14,
   "metadata": {
    "scrolled": true
   },
   "outputs": [
    {
     "name": "stdout",
     "output_type": "stream",
     "text": [
      "Fourth root of number a = 3.0\n"
     ]
    }
   ],
   "source": [
    "# Program to find the fourth root of a number\n",
    "\n",
    "a= 81\n",
    "print(\"Fourth root of number a =\", a**(1/4))"
   ]
  },
  {
   "cell_type": "code",
   "execution_count": 22,
   "metadata": {},
   "outputs": [
    {
     "name": "stdout",
     "output_type": "stream",
     "text": [
      "Initial value of a= 32\n",
      "Initial value of b= 57\n",
      "\n",
      "\n",
      "Final value of a= 57\n",
      "Final value of b= 32\n"
     ]
    }
   ],
   "source": [
    "# Program to swap two numbers in Python with the help of a temporary variable\n",
    "#c is the temporary variable\n",
    "\n",
    "a = 32\n",
    "b = 57\n",
    "print (\"Initial value of a=\", a)\n",
    "print (\"Initial value of b=\", b)\n",
    "\n",
    "c=a\n",
    "a=b\n",
    "b=c\n",
    "\n",
    "print(\"\\n\")\n",
    "\n",
    "print (\"Final value of a=\", a)\n",
    "print (\"Final value of b=\", b)"
   ]
  },
  {
   "cell_type": "code",
   "execution_count": 23,
   "metadata": {},
   "outputs": [
    {
     "name": "stdout",
     "output_type": "stream",
     "text": [
      "Initial value of a= 16\n",
      "Initial value of b= 24\n",
      "\n",
      "\n",
      "Final value of a= 24\n",
      "Final value of b= 16\n"
     ]
    }
   ],
   "source": [
    "# Program to swap two numbers in Python without using a temporary variable\n",
    "# Sum of a and b contains both a and b. Use Addition and Subtraction to reconstruct their values alternatively.\n",
    "\n",
    "a= 16\n",
    "b= 24\n",
    "print (\"Initial value of a=\", a)\n",
    "print (\"Initial value of b=\", b)\n",
    "\n",
    "a = a + b    # a is now 40\n",
    "b = a - b    # b is now 40 - 24 = 16\n",
    "a = a - b    # a is now 40 - 16 = 24\n",
    "\n",
    "print(\"\\n\")\n",
    "\n",
    "print (\"Final value of a=\", a)\n",
    "print (\"Final value of b=\", b)"
   ]
  },
  {
   "cell_type": "code",
   "execution_count": 30,
   "metadata": {},
   "outputs": [
    {
     "name": "stdout",
     "output_type": "stream",
     "text": [
      "Entered Value in Fahrenheit= -459.67 °F\n",
      "\n",
      "\n",
      "Converted Value in Kelvin= 0.0 °K\n",
      "\n",
      "\n",
      "Converted Value in Celsius= -273.15 °C\n"
     ]
    }
   ],
   "source": [
    "# Program to convert fahrenheit to kelvin and celsius both\n",
    "\n",
    "# Formula to convert fahrenheit to kelvin is: T(K) = (T(°F) + 459.67) × 5/9\n",
    "# Formula to convert fahrenheit to Celsius is: T(°C) = (T(°F) - 32) × 5/9\n",
    "\n",
    "x= -459.67\n",
    "\n",
    "print(\"Entered Value in Fahrenheit=\", x, \"°F\")\n",
    "\n",
    "print(\"\\n\")\n",
    "\n",
    "print(\"Converted Value in Kelvin=\", (x + 459.67)*5/9,\"°K\")\n",
    "\n",
    "print(\"\\n\")\n",
    "\n",
    "print(\"Converted Value in Celsius=\", (x -32)*5/9,\"°C\")\n",
    "\n",
    "\n",
    "\n",
    "\n",
    "\n"
   ]
  },
  {
   "cell_type": "code",
   "execution_count": 44,
   "metadata": {},
   "outputs": [
    {
     "name": "stdout",
     "output_type": "stream",
     "text": [
      " 9 belongs to \n",
      "<class 'int'>\n",
      "\n",
      "\n",
      " 20.9 belongs to \n",
      "<class 'float'>\n",
      "\n",
      "\n",
      "15+12j belongs to \n",
      "<class 'complex'>\n",
      "\n",
      "\n",
      " TRUE belongs to \n",
      "<class 'bool'>\n",
      "\n",
      "\n",
      " Hello World belongs to \n",
      "<class 'str'>\n",
      "\n",
      "\n",
      "['Lets', 'Upgrade', 'AI-ML'] belongs to\n",
      "<class 'list'>\n",
      "\n",
      "\n",
      "('Lets', 'Upgrade', 'AI-ML') belongs to\n",
      "<class 'tuple'>\n",
      "\n",
      "\n",
      "{'Lets', 'Upgrade', 'AI-ML'} belongs to\n",
      "<class 'set'>\n",
      "\n",
      "\n",
      "{'Batch': 'AI/ML', 'Year': 2020, 'Org': 'Lets Upgrade'} belongs to\n",
      "<class 'dict'>\n",
      "\n",
      "\n",
      "frozenset({'Batch', 'Org', 'Year'}) belongs to\n",
      "<class 'frozenset'>\n",
      "\n",
      "\n",
      "range(9) belongs to \n",
      "<class 'range'>\n",
      "\n",
      "\n",
      "bytearray(9) belongs to \n",
      "<class 'bytearray'>\n",
      "\n",
      "\n"
     ]
    }
   ],
   "source": [
    "# Program to demonstrate all the available data types in Python\n",
    "\n",
    "\n",
    "print(\" 9 belongs to \")\n",
    "print(type(9))\n",
    "print(\"\\n\")\n",
    "\n",
    "\n",
    "print(\" 20.9 belongs to \")  \n",
    "print(type(20.9))\n",
    "print(\"\\n\")\n",
    "\n",
    "print(\"15+12j belongs to \")\n",
    "print(type(15+12j))\n",
    "print(\"\\n\")\n",
    "\n",
    "print(\" TRUE belongs to \")\n",
    "print(type(True))\n",
    "print(\"\\n\")\n",
    "\n",
    "print(\" Hello World belongs to \")\n",
    "print(type(\"Hello World\"))\n",
    "print(\"\\n\")\n",
    "\n",
    "l= [\"Lets\", \"Upgrade\", \"AI-ML\"]\n",
    "print(l, \"belongs to\")\n",
    "print(type([\"Lets\", \"Upgrade\", \"AI-ML\"]))\n",
    "print(\"\\n\")\n",
    "\n",
    "t= (\"Lets\", \"Upgrade\", \"AI-ML\")\n",
    "print(t, \"belongs to\")\n",
    "print(type((\"Lets\", \"Upgrade\", \"AI-ML\")))\n",
    "print(\"\\n\")\n",
    "\n",
    "s= {\"Lets\", \"Upgrade\", \"AI-ML\"}\n",
    "print(s, \"belongs to\")\n",
    "print(type({\"Lets\", \"Upgrade\", \"AI-ML\"}))\n",
    "print(\"\\n\")\n",
    " \n",
    "\n",
    "d= {\"Batch\" : \"AI/ML\", \"Year\" : 2020, \"Org\" : \"Lets Upgrade\"}\n",
    "print(d, \"belongs to\")    \n",
    "print(type({\"Batch\" : \"AI/ML\", \"Year\" : 2020, \"Org\" : \"Lets Upgrade\"}))\n",
    "print(\"\\n\")\n",
    "\n",
    "FS=  frozenset({\"Batch\" : \"AI/ML\", \"Year\" : 2020, \"Org\" : \"Lets Upgrade\"}) \n",
    "print(FS, \"belongs to\")    \n",
    "print(type(frozenset({\"Batch\" : \"AI/ML\", \"Year\" : 2020, \"Org\" : \"Lets Upgrade\"})))\n",
    "print(\"\\n\")\n",
    "\n",
    "print(\"range(9) belongs to \")\n",
    "print(type(range(9)))\n",
    "print(\"\\n\")\n",
    "\n",
    "print(\"bytearray(9) belongs to \")\n",
    "print(type(bytearray(9)))\n",
    "print(\"\\n\")\n"
   ]
  },
  {
   "cell_type": "markdown",
   "metadata": {},
   "source": [
    "# This is a markdown Cell\n",
    "**HOW TO SET-UP A GIT-HUB PROFILE **\n",
    "\n",
    "<ol> \n",
    "     <li>Go to <a href = \"https://github.com/Home\">GIT-HUB page</a> \n",
    "     <li>Sign-up using your email address and login\n",
    "     <li>Create a <b class=\"keywords\">New Repository</b> and Enter name as: <b>Lets Upgrade AI-ML</b>\n",
    "     <li>Add Description as <b>Assignments</b> and let the default profile be <b>Public</b>\n",
    "     <li>Then click <b class=\"keywords\"> Create repository</b>\n",
    "     <li>Click the link <i>uploading an existing file</i> to upload assignment from your desktop\n",
    "     <li>This is the link to my Github Assignmnets page (https://github.com/abhiktiwari/LetsUpgrade-AI-ML/upload)\n",
    "</ol>\n",
    "    "
   ]
  },
  {
   "cell_type": "code",
   "execution_count": null,
   "metadata": {},
   "outputs": [],
   "source": []
  }
 ],
 "metadata": {
  "kernelspec": {
   "display_name": "Python 3",
   "language": "python",
   "name": "python3"
  },
  "language_info": {
   "codemirror_mode": {
    "name": "ipython",
    "version": 3
   },
   "file_extension": ".py",
   "mimetype": "text/x-python",
   "name": "python",
   "nbconvert_exporter": "python",
   "pygments_lexer": "ipython3",
   "version": "3.7.6"
  },
  "toc": {
   "base_numbering": 1,
   "nav_menu": {},
   "number_sections": true,
   "sideBar": true,
   "skip_h1_title": false,
   "title_cell": "Table of Contents",
   "title_sidebar": "Contents",
   "toc_cell": false,
   "toc_position": {},
   "toc_section_display": true,
   "toc_window_display": false
  }
 },
 "nbformat": 4,
 "nbformat_minor": 4
}
