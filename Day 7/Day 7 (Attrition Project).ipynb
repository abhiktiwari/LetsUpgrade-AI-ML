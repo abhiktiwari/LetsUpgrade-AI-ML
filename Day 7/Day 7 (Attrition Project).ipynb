{
 "cells": [
  {
   "cell_type": "markdown",
   "metadata": {},
   "source": [
    "#                                        Attrition Analysis Project\n",
    "  "
   ]
  },
  {
   "cell_type": "markdown",
   "metadata": {},
   "source": [
    "#### STAGE -1- Importing and launching"
   ]
  },
  {
   "cell_type": "code",
   "execution_count": 4,
   "metadata": {
    "scrolled": true
   },
   "outputs": [
    {
     "data": {
      "text/html": [
       "<div>\n",
       "<style scoped>\n",
       "    .dataframe tbody tr th:only-of-type {\n",
       "        vertical-align: middle;\n",
       "    }\n",
       "\n",
       "    .dataframe tbody tr th {\n",
       "        vertical-align: top;\n",
       "    }\n",
       "\n",
       "    .dataframe thead th {\n",
       "        text-align: right;\n",
       "    }\n",
       "</style>\n",
       "<table border=\"1\" class=\"dataframe\">\n",
       "  <thead>\n",
       "    <tr style=\"text-align: right;\">\n",
       "      <th></th>\n",
       "      <th>Age</th>\n",
       "      <th>Attrition</th>\n",
       "      <th>BusinessTravel</th>\n",
       "      <th>Department</th>\n",
       "      <th>DistanceFromHome</th>\n",
       "      <th>Education</th>\n",
       "      <th>EducationField</th>\n",
       "      <th>EmployeeCount</th>\n",
       "      <th>EmployeeID</th>\n",
       "      <th>Gender</th>\n",
       "      <th>...</th>\n",
       "      <th>NumCompaniesWorked</th>\n",
       "      <th>Over18</th>\n",
       "      <th>PercentSalaryHike</th>\n",
       "      <th>StandardHours</th>\n",
       "      <th>StockOptionLevel</th>\n",
       "      <th>TotalWorkingYears</th>\n",
       "      <th>TrainingTimesLastYear</th>\n",
       "      <th>YearsAtCompany</th>\n",
       "      <th>YearsSinceLastPromotion</th>\n",
       "      <th>YearsWithCurrManager</th>\n",
       "    </tr>\n",
       "  </thead>\n",
       "  <tbody>\n",
       "    <tr>\n",
       "      <th>0</th>\n",
       "      <td>51</td>\n",
       "      <td>No</td>\n",
       "      <td>Travel_Rarely</td>\n",
       "      <td>Sales</td>\n",
       "      <td>6</td>\n",
       "      <td>2</td>\n",
       "      <td>Life Sciences</td>\n",
       "      <td>1</td>\n",
       "      <td>1</td>\n",
       "      <td>Female</td>\n",
       "      <td>...</td>\n",
       "      <td>1.0</td>\n",
       "      <td>Y</td>\n",
       "      <td>11</td>\n",
       "      <td>8</td>\n",
       "      <td>0</td>\n",
       "      <td>1.0</td>\n",
       "      <td>6</td>\n",
       "      <td>1</td>\n",
       "      <td>0</td>\n",
       "      <td>0</td>\n",
       "    </tr>\n",
       "    <tr>\n",
       "      <th>1</th>\n",
       "      <td>31</td>\n",
       "      <td>Yes</td>\n",
       "      <td>Travel_Frequently</td>\n",
       "      <td>Research &amp; Development</td>\n",
       "      <td>10</td>\n",
       "      <td>1</td>\n",
       "      <td>Life Sciences</td>\n",
       "      <td>1</td>\n",
       "      <td>2</td>\n",
       "      <td>Female</td>\n",
       "      <td>...</td>\n",
       "      <td>0.0</td>\n",
       "      <td>Y</td>\n",
       "      <td>23</td>\n",
       "      <td>8</td>\n",
       "      <td>1</td>\n",
       "      <td>6.0</td>\n",
       "      <td>3</td>\n",
       "      <td>5</td>\n",
       "      <td>1</td>\n",
       "      <td>4</td>\n",
       "    </tr>\n",
       "    <tr>\n",
       "      <th>2</th>\n",
       "      <td>32</td>\n",
       "      <td>No</td>\n",
       "      <td>Travel_Frequently</td>\n",
       "      <td>Research &amp; Development</td>\n",
       "      <td>17</td>\n",
       "      <td>4</td>\n",
       "      <td>Other</td>\n",
       "      <td>1</td>\n",
       "      <td>3</td>\n",
       "      <td>Male</td>\n",
       "      <td>...</td>\n",
       "      <td>1.0</td>\n",
       "      <td>Y</td>\n",
       "      <td>15</td>\n",
       "      <td>8</td>\n",
       "      <td>3</td>\n",
       "      <td>5.0</td>\n",
       "      <td>2</td>\n",
       "      <td>5</td>\n",
       "      <td>0</td>\n",
       "      <td>3</td>\n",
       "    </tr>\n",
       "    <tr>\n",
       "      <th>3</th>\n",
       "      <td>38</td>\n",
       "      <td>No</td>\n",
       "      <td>Non-Travel</td>\n",
       "      <td>Research &amp; Development</td>\n",
       "      <td>2</td>\n",
       "      <td>5</td>\n",
       "      <td>Life Sciences</td>\n",
       "      <td>1</td>\n",
       "      <td>4</td>\n",
       "      <td>Male</td>\n",
       "      <td>...</td>\n",
       "      <td>3.0</td>\n",
       "      <td>Y</td>\n",
       "      <td>11</td>\n",
       "      <td>8</td>\n",
       "      <td>3</td>\n",
       "      <td>13.0</td>\n",
       "      <td>5</td>\n",
       "      <td>8</td>\n",
       "      <td>7</td>\n",
       "      <td>5</td>\n",
       "    </tr>\n",
       "    <tr>\n",
       "      <th>4</th>\n",
       "      <td>32</td>\n",
       "      <td>No</td>\n",
       "      <td>Travel_Rarely</td>\n",
       "      <td>Research &amp; Development</td>\n",
       "      <td>10</td>\n",
       "      <td>1</td>\n",
       "      <td>Medical</td>\n",
       "      <td>1</td>\n",
       "      <td>5</td>\n",
       "      <td>Male</td>\n",
       "      <td>...</td>\n",
       "      <td>4.0</td>\n",
       "      <td>Y</td>\n",
       "      <td>12</td>\n",
       "      <td>8</td>\n",
       "      <td>2</td>\n",
       "      <td>9.0</td>\n",
       "      <td>2</td>\n",
       "      <td>6</td>\n",
       "      <td>0</td>\n",
       "      <td>4</td>\n",
       "    </tr>\n",
       "  </tbody>\n",
       "</table>\n",
       "<p>5 rows × 24 columns</p>\n",
       "</div>"
      ],
      "text/plain": [
       "   Age Attrition     BusinessTravel              Department  DistanceFromHome  \\\n",
       "0   51        No      Travel_Rarely                   Sales                 6   \n",
       "1   31       Yes  Travel_Frequently  Research & Development                10   \n",
       "2   32        No  Travel_Frequently  Research & Development                17   \n",
       "3   38        No         Non-Travel  Research & Development                 2   \n",
       "4   32        No      Travel_Rarely  Research & Development                10   \n",
       "\n",
       "   Education EducationField  EmployeeCount  EmployeeID  Gender  ...  \\\n",
       "0          2  Life Sciences              1           1  Female  ...   \n",
       "1          1  Life Sciences              1           2  Female  ...   \n",
       "2          4          Other              1           3    Male  ...   \n",
       "3          5  Life Sciences              1           4    Male  ...   \n",
       "4          1        Medical              1           5    Male  ...   \n",
       "\n",
       "   NumCompaniesWorked Over18 PercentSalaryHike  StandardHours  \\\n",
       "0                 1.0      Y                11              8   \n",
       "1                 0.0      Y                23              8   \n",
       "2                 1.0      Y                15              8   \n",
       "3                 3.0      Y                11              8   \n",
       "4                 4.0      Y                12              8   \n",
       "\n",
       "   StockOptionLevel TotalWorkingYears  TrainingTimesLastYear  YearsAtCompany  \\\n",
       "0                 0               1.0                      6               1   \n",
       "1                 1               6.0                      3               5   \n",
       "2                 3               5.0                      2               5   \n",
       "3                 3              13.0                      5               8   \n",
       "4                 2               9.0                      2               6   \n",
       "\n",
       "   YearsSinceLastPromotion  YearsWithCurrManager  \n",
       "0                        0                     0  \n",
       "1                        1                     4  \n",
       "2                        0                     3  \n",
       "3                        7                     5  \n",
       "4                        0                     4  \n",
       "\n",
       "[5 rows x 24 columns]"
      ]
     },
     "execution_count": 4,
     "metadata": {},
     "output_type": "execute_result"
    }
   ],
   "source": [
    "import pandas as pd\n",
    "import numpy as np\n",
    "import matplotlib.pyplot as plt\n",
    "dataset=pd.read_csv(\"general_data.csv\")\n",
    "dataset.head()"
   ]
  },
  {
   "cell_type": "code",
   "execution_count": 5,
   "metadata": {},
   "outputs": [
    {
     "data": {
      "text/plain": [
       "Index(['Age', 'Attrition', 'BusinessTravel', 'Department', 'DistanceFromHome',\n",
       "       'Education', 'EducationField', 'EmployeeCount', 'EmployeeID', 'Gender',\n",
       "       'JobLevel', 'JobRole', 'MaritalStatus', 'MonthlyIncome',\n",
       "       'NumCompaniesWorked', 'Over18', 'PercentSalaryHike', 'StandardHours',\n",
       "       'StockOptionLevel', 'TotalWorkingYears', 'TrainingTimesLastYear',\n",
       "       'YearsAtCompany', 'YearsSinceLastPromotion', 'YearsWithCurrManager'],\n",
       "      dtype='object')"
      ]
     },
     "execution_count": 5,
     "metadata": {},
     "output_type": "execute_result"
    }
   ],
   "source": [
    "dataset.columns"
   ]
  },
  {
   "cell_type": "markdown",
   "metadata": {},
   "source": [
    "#### STAGE -2 - Data Preparation "
   ]
  },
  {
   "cell_type": "markdown",
   "metadata": {},
   "source": [
    " 1) Checking for missing data"
   ]
  },
  {
   "cell_type": "code",
   "execution_count": 6,
   "metadata": {},
   "outputs": [
    {
     "name": "stdout",
     "output_type": "stream",
     "text": [
      "      Age Attrition     BusinessTravel              Department  \\\n",
      "0      51        No      Travel_Rarely                   Sales   \n",
      "1      31       Yes  Travel_Frequently  Research & Development   \n",
      "2      32        No  Travel_Frequently  Research & Development   \n",
      "3      38        No         Non-Travel  Research & Development   \n",
      "4      32        No      Travel_Rarely  Research & Development   \n",
      "...   ...       ...                ...                     ...   \n",
      "4404   29        No      Travel_Rarely                   Sales   \n",
      "4405   42        No      Travel_Rarely  Research & Development   \n",
      "4406   29        No      Travel_Rarely  Research & Development   \n",
      "4407   25        No      Travel_Rarely  Research & Development   \n",
      "4408   42        No      Travel_Rarely                   Sales   \n",
      "\n",
      "      DistanceFromHome  Education EducationField  EmployeeCount  EmployeeID  \\\n",
      "0                    6          2  Life Sciences              1           1   \n",
      "1                   10          1  Life Sciences              1           2   \n",
      "2                   17          4          Other              1           3   \n",
      "3                    2          5  Life Sciences              1           4   \n",
      "4                   10          1        Medical              1           5   \n",
      "...                ...        ...            ...            ...         ...   \n",
      "4404                 4          3          Other              1        4405   \n",
      "4405                 5          4        Medical              1        4406   \n",
      "4406                 2          4        Medical              1        4407   \n",
      "4407                25          2  Life Sciences              1        4408   \n",
      "4408                18          2        Medical              1        4409   \n",
      "\n",
      "      Gender  ...  NumCompaniesWorked Over18 PercentSalaryHike  StandardHours  \\\n",
      "0     Female  ...                 1.0      Y                11              8   \n",
      "1     Female  ...                 0.0      Y                23              8   \n",
      "2       Male  ...                 1.0      Y                15              8   \n",
      "3       Male  ...                 3.0      Y                11              8   \n",
      "4       Male  ...                 4.0      Y                12              8   \n",
      "...      ...  ...                 ...    ...               ...            ...   \n",
      "4404  Female  ...                 1.0      Y                18              8   \n",
      "4405  Female  ...                 3.0      Y                17              8   \n",
      "4406    Male  ...                 2.0      Y                15              8   \n",
      "4407    Male  ...                 0.0      Y                20              8   \n",
      "4408    Male  ...                 0.0      Y                14              8   \n",
      "\n",
      "      StockOptionLevel TotalWorkingYears  TrainingTimesLastYear  \\\n",
      "0                    0               1.0                      6   \n",
      "1                    1               6.0                      3   \n",
      "2                    3               5.0                      2   \n",
      "3                    3              13.0                      5   \n",
      "4                    2               9.0                      2   \n",
      "...                ...               ...                    ...   \n",
      "4404                 0               6.0                      2   \n",
      "4405                 1              10.0                      5   \n",
      "4406                 0              10.0                      2   \n",
      "4407                 0               5.0                      4   \n",
      "4408                 1              10.0                      2   \n",
      "\n",
      "      YearsAtCompany  YearsSinceLastPromotion  YearsWithCurrManager  \n",
      "0                  1                        0                     0  \n",
      "1                  5                        1                     4  \n",
      "2                  5                        0                     3  \n",
      "3                  8                        7                     5  \n",
      "4                  6                        0                     4  \n",
      "...              ...                      ...                   ...  \n",
      "4404               6                        1                     5  \n",
      "4405               3                        0                     2  \n",
      "4406               3                        0                     2  \n",
      "4407               4                        1                     2  \n",
      "4408               9                        7                     8  \n",
      "\n",
      "[4382 rows x 24 columns]\n"
     ]
    }
   ],
   "source": [
    "dataset.isnull()\n",
    "dataset=dataset.dropna()\n",
    "print(dataset)"
   ]
  },
  {
   "cell_type": "markdown",
   "metadata": {},
   "source": [
    "No data entry is missing"
   ]
  },
  {
   "cell_type": "markdown",
   "metadata": {},
   "source": [
    "2) Checking for duplicates and deleting if any"
   ]
  },
  {
   "cell_type": "code",
   "execution_count": 7,
   "metadata": {},
   "outputs": [
    {
     "data": {
      "text/plain": [
       "0       False\n",
       "1       False\n",
       "2       False\n",
       "3       False\n",
       "4       False\n",
       "        ...  \n",
       "4404    False\n",
       "4405    False\n",
       "4406    False\n",
       "4407    False\n",
       "4408    False\n",
       "Length: 4382, dtype: bool"
      ]
     },
     "execution_count": 7,
     "metadata": {},
     "output_type": "execute_result"
    }
   ],
   "source": [
    "dataset.duplicated()"
   ]
  },
  {
   "cell_type": "code",
   "execution_count": 8,
   "metadata": {},
   "outputs": [
    {
     "data": {
      "text/html": [
       "<div>\n",
       "<style scoped>\n",
       "    .dataframe tbody tr th:only-of-type {\n",
       "        vertical-align: middle;\n",
       "    }\n",
       "\n",
       "    .dataframe tbody tr th {\n",
       "        vertical-align: top;\n",
       "    }\n",
       "\n",
       "    .dataframe thead th {\n",
       "        text-align: right;\n",
       "    }\n",
       "</style>\n",
       "<table border=\"1\" class=\"dataframe\">\n",
       "  <thead>\n",
       "    <tr style=\"text-align: right;\">\n",
       "      <th></th>\n",
       "      <th>Age</th>\n",
       "      <th>Attrition</th>\n",
       "      <th>BusinessTravel</th>\n",
       "      <th>Department</th>\n",
       "      <th>DistanceFromHome</th>\n",
       "      <th>Education</th>\n",
       "      <th>EducationField</th>\n",
       "      <th>EmployeeCount</th>\n",
       "      <th>EmployeeID</th>\n",
       "      <th>Gender</th>\n",
       "      <th>...</th>\n",
       "      <th>NumCompaniesWorked</th>\n",
       "      <th>Over18</th>\n",
       "      <th>PercentSalaryHike</th>\n",
       "      <th>StandardHours</th>\n",
       "      <th>StockOptionLevel</th>\n",
       "      <th>TotalWorkingYears</th>\n",
       "      <th>TrainingTimesLastYear</th>\n",
       "      <th>YearsAtCompany</th>\n",
       "      <th>YearsSinceLastPromotion</th>\n",
       "      <th>YearsWithCurrManager</th>\n",
       "    </tr>\n",
       "  </thead>\n",
       "  <tbody>\n",
       "    <tr>\n",
       "      <th>0</th>\n",
       "      <td>51</td>\n",
       "      <td>No</td>\n",
       "      <td>Travel_Rarely</td>\n",
       "      <td>Sales</td>\n",
       "      <td>6</td>\n",
       "      <td>2</td>\n",
       "      <td>Life Sciences</td>\n",
       "      <td>1</td>\n",
       "      <td>1</td>\n",
       "      <td>Female</td>\n",
       "      <td>...</td>\n",
       "      <td>1.0</td>\n",
       "      <td>Y</td>\n",
       "      <td>11</td>\n",
       "      <td>8</td>\n",
       "      <td>0</td>\n",
       "      <td>1.0</td>\n",
       "      <td>6</td>\n",
       "      <td>1</td>\n",
       "      <td>0</td>\n",
       "      <td>0</td>\n",
       "    </tr>\n",
       "    <tr>\n",
       "      <th>1</th>\n",
       "      <td>31</td>\n",
       "      <td>Yes</td>\n",
       "      <td>Travel_Frequently</td>\n",
       "      <td>Research &amp; Development</td>\n",
       "      <td>10</td>\n",
       "      <td>1</td>\n",
       "      <td>Life Sciences</td>\n",
       "      <td>1</td>\n",
       "      <td>2</td>\n",
       "      <td>Female</td>\n",
       "      <td>...</td>\n",
       "      <td>0.0</td>\n",
       "      <td>Y</td>\n",
       "      <td>23</td>\n",
       "      <td>8</td>\n",
       "      <td>1</td>\n",
       "      <td>6.0</td>\n",
       "      <td>3</td>\n",
       "      <td>5</td>\n",
       "      <td>1</td>\n",
       "      <td>4</td>\n",
       "    </tr>\n",
       "    <tr>\n",
       "      <th>2</th>\n",
       "      <td>32</td>\n",
       "      <td>No</td>\n",
       "      <td>Travel_Frequently</td>\n",
       "      <td>Research &amp; Development</td>\n",
       "      <td>17</td>\n",
       "      <td>4</td>\n",
       "      <td>Other</td>\n",
       "      <td>1</td>\n",
       "      <td>3</td>\n",
       "      <td>Male</td>\n",
       "      <td>...</td>\n",
       "      <td>1.0</td>\n",
       "      <td>Y</td>\n",
       "      <td>15</td>\n",
       "      <td>8</td>\n",
       "      <td>3</td>\n",
       "      <td>5.0</td>\n",
       "      <td>2</td>\n",
       "      <td>5</td>\n",
       "      <td>0</td>\n",
       "      <td>3</td>\n",
       "    </tr>\n",
       "    <tr>\n",
       "      <th>3</th>\n",
       "      <td>38</td>\n",
       "      <td>No</td>\n",
       "      <td>Non-Travel</td>\n",
       "      <td>Research &amp; Development</td>\n",
       "      <td>2</td>\n",
       "      <td>5</td>\n",
       "      <td>Life Sciences</td>\n",
       "      <td>1</td>\n",
       "      <td>4</td>\n",
       "      <td>Male</td>\n",
       "      <td>...</td>\n",
       "      <td>3.0</td>\n",
       "      <td>Y</td>\n",
       "      <td>11</td>\n",
       "      <td>8</td>\n",
       "      <td>3</td>\n",
       "      <td>13.0</td>\n",
       "      <td>5</td>\n",
       "      <td>8</td>\n",
       "      <td>7</td>\n",
       "      <td>5</td>\n",
       "    </tr>\n",
       "    <tr>\n",
       "      <th>4</th>\n",
       "      <td>32</td>\n",
       "      <td>No</td>\n",
       "      <td>Travel_Rarely</td>\n",
       "      <td>Research &amp; Development</td>\n",
       "      <td>10</td>\n",
       "      <td>1</td>\n",
       "      <td>Medical</td>\n",
       "      <td>1</td>\n",
       "      <td>5</td>\n",
       "      <td>Male</td>\n",
       "      <td>...</td>\n",
       "      <td>4.0</td>\n",
       "      <td>Y</td>\n",
       "      <td>12</td>\n",
       "      <td>8</td>\n",
       "      <td>2</td>\n",
       "      <td>9.0</td>\n",
       "      <td>2</td>\n",
       "      <td>6</td>\n",
       "      <td>0</td>\n",
       "      <td>4</td>\n",
       "    </tr>\n",
       "    <tr>\n",
       "      <th>...</th>\n",
       "      <td>...</td>\n",
       "      <td>...</td>\n",
       "      <td>...</td>\n",
       "      <td>...</td>\n",
       "      <td>...</td>\n",
       "      <td>...</td>\n",
       "      <td>...</td>\n",
       "      <td>...</td>\n",
       "      <td>...</td>\n",
       "      <td>...</td>\n",
       "      <td>...</td>\n",
       "      <td>...</td>\n",
       "      <td>...</td>\n",
       "      <td>...</td>\n",
       "      <td>...</td>\n",
       "      <td>...</td>\n",
       "      <td>...</td>\n",
       "      <td>...</td>\n",
       "      <td>...</td>\n",
       "      <td>...</td>\n",
       "      <td>...</td>\n",
       "    </tr>\n",
       "    <tr>\n",
       "      <th>4404</th>\n",
       "      <td>29</td>\n",
       "      <td>No</td>\n",
       "      <td>Travel_Rarely</td>\n",
       "      <td>Sales</td>\n",
       "      <td>4</td>\n",
       "      <td>3</td>\n",
       "      <td>Other</td>\n",
       "      <td>1</td>\n",
       "      <td>4405</td>\n",
       "      <td>Female</td>\n",
       "      <td>...</td>\n",
       "      <td>1.0</td>\n",
       "      <td>Y</td>\n",
       "      <td>18</td>\n",
       "      <td>8</td>\n",
       "      <td>0</td>\n",
       "      <td>6.0</td>\n",
       "      <td>2</td>\n",
       "      <td>6</td>\n",
       "      <td>1</td>\n",
       "      <td>5</td>\n",
       "    </tr>\n",
       "    <tr>\n",
       "      <th>4405</th>\n",
       "      <td>42</td>\n",
       "      <td>No</td>\n",
       "      <td>Travel_Rarely</td>\n",
       "      <td>Research &amp; Development</td>\n",
       "      <td>5</td>\n",
       "      <td>4</td>\n",
       "      <td>Medical</td>\n",
       "      <td>1</td>\n",
       "      <td>4406</td>\n",
       "      <td>Female</td>\n",
       "      <td>...</td>\n",
       "      <td>3.0</td>\n",
       "      <td>Y</td>\n",
       "      <td>17</td>\n",
       "      <td>8</td>\n",
       "      <td>1</td>\n",
       "      <td>10.0</td>\n",
       "      <td>5</td>\n",
       "      <td>3</td>\n",
       "      <td>0</td>\n",
       "      <td>2</td>\n",
       "    </tr>\n",
       "    <tr>\n",
       "      <th>4406</th>\n",
       "      <td>29</td>\n",
       "      <td>No</td>\n",
       "      <td>Travel_Rarely</td>\n",
       "      <td>Research &amp; Development</td>\n",
       "      <td>2</td>\n",
       "      <td>4</td>\n",
       "      <td>Medical</td>\n",
       "      <td>1</td>\n",
       "      <td>4407</td>\n",
       "      <td>Male</td>\n",
       "      <td>...</td>\n",
       "      <td>2.0</td>\n",
       "      <td>Y</td>\n",
       "      <td>15</td>\n",
       "      <td>8</td>\n",
       "      <td>0</td>\n",
       "      <td>10.0</td>\n",
       "      <td>2</td>\n",
       "      <td>3</td>\n",
       "      <td>0</td>\n",
       "      <td>2</td>\n",
       "    </tr>\n",
       "    <tr>\n",
       "      <th>4407</th>\n",
       "      <td>25</td>\n",
       "      <td>No</td>\n",
       "      <td>Travel_Rarely</td>\n",
       "      <td>Research &amp; Development</td>\n",
       "      <td>25</td>\n",
       "      <td>2</td>\n",
       "      <td>Life Sciences</td>\n",
       "      <td>1</td>\n",
       "      <td>4408</td>\n",
       "      <td>Male</td>\n",
       "      <td>...</td>\n",
       "      <td>0.0</td>\n",
       "      <td>Y</td>\n",
       "      <td>20</td>\n",
       "      <td>8</td>\n",
       "      <td>0</td>\n",
       "      <td>5.0</td>\n",
       "      <td>4</td>\n",
       "      <td>4</td>\n",
       "      <td>1</td>\n",
       "      <td>2</td>\n",
       "    </tr>\n",
       "    <tr>\n",
       "      <th>4408</th>\n",
       "      <td>42</td>\n",
       "      <td>No</td>\n",
       "      <td>Travel_Rarely</td>\n",
       "      <td>Sales</td>\n",
       "      <td>18</td>\n",
       "      <td>2</td>\n",
       "      <td>Medical</td>\n",
       "      <td>1</td>\n",
       "      <td>4409</td>\n",
       "      <td>Male</td>\n",
       "      <td>...</td>\n",
       "      <td>0.0</td>\n",
       "      <td>Y</td>\n",
       "      <td>14</td>\n",
       "      <td>8</td>\n",
       "      <td>1</td>\n",
       "      <td>10.0</td>\n",
       "      <td>2</td>\n",
       "      <td>9</td>\n",
       "      <td>7</td>\n",
       "      <td>8</td>\n",
       "    </tr>\n",
       "  </tbody>\n",
       "</table>\n",
       "<p>4382 rows × 24 columns</p>\n",
       "</div>"
      ],
      "text/plain": [
       "      Age Attrition     BusinessTravel              Department  \\\n",
       "0      51        No      Travel_Rarely                   Sales   \n",
       "1      31       Yes  Travel_Frequently  Research & Development   \n",
       "2      32        No  Travel_Frequently  Research & Development   \n",
       "3      38        No         Non-Travel  Research & Development   \n",
       "4      32        No      Travel_Rarely  Research & Development   \n",
       "...   ...       ...                ...                     ...   \n",
       "4404   29        No      Travel_Rarely                   Sales   \n",
       "4405   42        No      Travel_Rarely  Research & Development   \n",
       "4406   29        No      Travel_Rarely  Research & Development   \n",
       "4407   25        No      Travel_Rarely  Research & Development   \n",
       "4408   42        No      Travel_Rarely                   Sales   \n",
       "\n",
       "      DistanceFromHome  Education EducationField  EmployeeCount  EmployeeID  \\\n",
       "0                    6          2  Life Sciences              1           1   \n",
       "1                   10          1  Life Sciences              1           2   \n",
       "2                   17          4          Other              1           3   \n",
       "3                    2          5  Life Sciences              1           4   \n",
       "4                   10          1        Medical              1           5   \n",
       "...                ...        ...            ...            ...         ...   \n",
       "4404                 4          3          Other              1        4405   \n",
       "4405                 5          4        Medical              1        4406   \n",
       "4406                 2          4        Medical              1        4407   \n",
       "4407                25          2  Life Sciences              1        4408   \n",
       "4408                18          2        Medical              1        4409   \n",
       "\n",
       "      Gender  ...  NumCompaniesWorked Over18 PercentSalaryHike  StandardHours  \\\n",
       "0     Female  ...                 1.0      Y                11              8   \n",
       "1     Female  ...                 0.0      Y                23              8   \n",
       "2       Male  ...                 1.0      Y                15              8   \n",
       "3       Male  ...                 3.0      Y                11              8   \n",
       "4       Male  ...                 4.0      Y                12              8   \n",
       "...      ...  ...                 ...    ...               ...            ...   \n",
       "4404  Female  ...                 1.0      Y                18              8   \n",
       "4405  Female  ...                 3.0      Y                17              8   \n",
       "4406    Male  ...                 2.0      Y                15              8   \n",
       "4407    Male  ...                 0.0      Y                20              8   \n",
       "4408    Male  ...                 0.0      Y                14              8   \n",
       "\n",
       "      StockOptionLevel TotalWorkingYears  TrainingTimesLastYear  \\\n",
       "0                    0               1.0                      6   \n",
       "1                    1               6.0                      3   \n",
       "2                    3               5.0                      2   \n",
       "3                    3              13.0                      5   \n",
       "4                    2               9.0                      2   \n",
       "...                ...               ...                    ...   \n",
       "4404                 0               6.0                      2   \n",
       "4405                 1              10.0                      5   \n",
       "4406                 0              10.0                      2   \n",
       "4407                 0               5.0                      4   \n",
       "4408                 1              10.0                      2   \n",
       "\n",
       "      YearsAtCompany  YearsSinceLastPromotion  YearsWithCurrManager  \n",
       "0                  1                        0                     0  \n",
       "1                  5                        1                     4  \n",
       "2                  5                        0                     3  \n",
       "3                  8                        7                     5  \n",
       "4                  6                        0                     4  \n",
       "...              ...                      ...                   ...  \n",
       "4404               6                        1                     5  \n",
       "4405               3                        0                     2  \n",
       "4406               3                        0                     2  \n",
       "4407               4                        1                     2  \n",
       "4408               9                        7                     8  \n",
       "\n",
       "[4382 rows x 24 columns]"
      ]
     },
     "execution_count": 8,
     "metadata": {},
     "output_type": "execute_result"
    }
   ],
   "source": [
    "dataset.drop_duplicates()"
   ]
  },
  {
   "cell_type": "markdown",
   "metadata": {},
   "source": [
    "#### STAGE - 3 - Descriptive Univariate Analysis"
   ]
  },
  {
   "cell_type": "code",
   "execution_count": 9,
   "metadata": {},
   "outputs": [
    {
     "data": {
      "text/html": [
       "<div>\n",
       "<style scoped>\n",
       "    .dataframe tbody tr th:only-of-type {\n",
       "        vertical-align: middle;\n",
       "    }\n",
       "\n",
       "    .dataframe tbody tr th {\n",
       "        vertical-align: top;\n",
       "    }\n",
       "\n",
       "    .dataframe thead th {\n",
       "        text-align: right;\n",
       "    }\n",
       "</style>\n",
       "<table border=\"1\" class=\"dataframe\">\n",
       "  <thead>\n",
       "    <tr style=\"text-align: right;\">\n",
       "      <th></th>\n",
       "      <th>Age</th>\n",
       "      <th>DistanceFromHome</th>\n",
       "      <th>Education</th>\n",
       "      <th>EmployeeCount</th>\n",
       "      <th>EmployeeID</th>\n",
       "      <th>JobLevel</th>\n",
       "      <th>MonthlyIncome</th>\n",
       "      <th>NumCompaniesWorked</th>\n",
       "      <th>PercentSalaryHike</th>\n",
       "      <th>StandardHours</th>\n",
       "      <th>StockOptionLevel</th>\n",
       "      <th>TotalWorkingYears</th>\n",
       "      <th>TrainingTimesLastYear</th>\n",
       "      <th>YearsAtCompany</th>\n",
       "      <th>YearsSinceLastPromotion</th>\n",
       "      <th>YearsWithCurrManager</th>\n",
       "    </tr>\n",
       "  </thead>\n",
       "  <tbody>\n",
       "    <tr>\n",
       "      <th>count</th>\n",
       "      <td>4382.000000</td>\n",
       "      <td>4382.000000</td>\n",
       "      <td>4382.000000</td>\n",
       "      <td>4382.0</td>\n",
       "      <td>4382.000000</td>\n",
       "      <td>4382.000000</td>\n",
       "      <td>4382.000000</td>\n",
       "      <td>4382.000000</td>\n",
       "      <td>4382.000000</td>\n",
       "      <td>4382.0</td>\n",
       "      <td>4382.000000</td>\n",
       "      <td>4382.000000</td>\n",
       "      <td>4382.000000</td>\n",
       "      <td>4382.000000</td>\n",
       "      <td>4382.000000</td>\n",
       "      <td>4382.000000</td>\n",
       "    </tr>\n",
       "    <tr>\n",
       "      <th>mean</th>\n",
       "      <td>36.933364</td>\n",
       "      <td>9.198996</td>\n",
       "      <td>2.912369</td>\n",
       "      <td>1.0</td>\n",
       "      <td>2207.804884</td>\n",
       "      <td>2.063898</td>\n",
       "      <td>65061.702419</td>\n",
       "      <td>2.693291</td>\n",
       "      <td>15.210634</td>\n",
       "      <td>8.0</td>\n",
       "      <td>0.794614</td>\n",
       "      <td>11.290278</td>\n",
       "      <td>2.798266</td>\n",
       "      <td>7.010497</td>\n",
       "      <td>2.191693</td>\n",
       "      <td>4.126198</td>\n",
       "    </tr>\n",
       "    <tr>\n",
       "      <th>std</th>\n",
       "      <td>9.137272</td>\n",
       "      <td>8.105396</td>\n",
       "      <td>1.024728</td>\n",
       "      <td>0.0</td>\n",
       "      <td>1271.688783</td>\n",
       "      <td>1.106115</td>\n",
       "      <td>47142.310175</td>\n",
       "      <td>2.497832</td>\n",
       "      <td>3.663007</td>\n",
       "      <td>0.0</td>\n",
       "      <td>0.852397</td>\n",
       "      <td>7.785717</td>\n",
       "      <td>1.289402</td>\n",
       "      <td>6.129351</td>\n",
       "      <td>3.224994</td>\n",
       "      <td>3.569674</td>\n",
       "    </tr>\n",
       "    <tr>\n",
       "      <th>min</th>\n",
       "      <td>18.000000</td>\n",
       "      <td>1.000000</td>\n",
       "      <td>1.000000</td>\n",
       "      <td>1.0</td>\n",
       "      <td>1.000000</td>\n",
       "      <td>1.000000</td>\n",
       "      <td>10090.000000</td>\n",
       "      <td>0.000000</td>\n",
       "      <td>11.000000</td>\n",
       "      <td>8.0</td>\n",
       "      <td>0.000000</td>\n",
       "      <td>0.000000</td>\n",
       "      <td>0.000000</td>\n",
       "      <td>0.000000</td>\n",
       "      <td>0.000000</td>\n",
       "      <td>0.000000</td>\n",
       "    </tr>\n",
       "    <tr>\n",
       "      <th>25%</th>\n",
       "      <td>30.000000</td>\n",
       "      <td>2.000000</td>\n",
       "      <td>2.000000</td>\n",
       "      <td>1.0</td>\n",
       "      <td>1108.250000</td>\n",
       "      <td>1.000000</td>\n",
       "      <td>29110.000000</td>\n",
       "      <td>1.000000</td>\n",
       "      <td>12.000000</td>\n",
       "      <td>8.0</td>\n",
       "      <td>0.000000</td>\n",
       "      <td>6.000000</td>\n",
       "      <td>2.000000</td>\n",
       "      <td>3.000000</td>\n",
       "      <td>0.000000</td>\n",
       "      <td>2.000000</td>\n",
       "    </tr>\n",
       "    <tr>\n",
       "      <th>50%</th>\n",
       "      <td>36.000000</td>\n",
       "      <td>7.000000</td>\n",
       "      <td>3.000000</td>\n",
       "      <td>1.0</td>\n",
       "      <td>2208.500000</td>\n",
       "      <td>2.000000</td>\n",
       "      <td>49190.000000</td>\n",
       "      <td>2.000000</td>\n",
       "      <td>14.000000</td>\n",
       "      <td>8.0</td>\n",
       "      <td>1.000000</td>\n",
       "      <td>10.000000</td>\n",
       "      <td>3.000000</td>\n",
       "      <td>5.000000</td>\n",
       "      <td>1.000000</td>\n",
       "      <td>3.000000</td>\n",
       "    </tr>\n",
       "    <tr>\n",
       "      <th>75%</th>\n",
       "      <td>43.000000</td>\n",
       "      <td>14.000000</td>\n",
       "      <td>4.000000</td>\n",
       "      <td>1.0</td>\n",
       "      <td>3308.750000</td>\n",
       "      <td>3.000000</td>\n",
       "      <td>83790.000000</td>\n",
       "      <td>4.000000</td>\n",
       "      <td>18.000000</td>\n",
       "      <td>8.0</td>\n",
       "      <td>1.000000</td>\n",
       "      <td>15.000000</td>\n",
       "      <td>3.000000</td>\n",
       "      <td>9.000000</td>\n",
       "      <td>3.000000</td>\n",
       "      <td>7.000000</td>\n",
       "    </tr>\n",
       "    <tr>\n",
       "      <th>max</th>\n",
       "      <td>60.000000</td>\n",
       "      <td>29.000000</td>\n",
       "      <td>5.000000</td>\n",
       "      <td>1.0</td>\n",
       "      <td>4409.000000</td>\n",
       "      <td>5.000000</td>\n",
       "      <td>199990.000000</td>\n",
       "      <td>9.000000</td>\n",
       "      <td>25.000000</td>\n",
       "      <td>8.0</td>\n",
       "      <td>3.000000</td>\n",
       "      <td>40.000000</td>\n",
       "      <td>6.000000</td>\n",
       "      <td>40.000000</td>\n",
       "      <td>15.000000</td>\n",
       "      <td>17.000000</td>\n",
       "    </tr>\n",
       "  </tbody>\n",
       "</table>\n",
       "</div>"
      ],
      "text/plain": [
       "               Age  DistanceFromHome    Education  EmployeeCount   EmployeeID  \\\n",
       "count  4382.000000       4382.000000  4382.000000         4382.0  4382.000000   \n",
       "mean     36.933364          9.198996     2.912369            1.0  2207.804884   \n",
       "std       9.137272          8.105396     1.024728            0.0  1271.688783   \n",
       "min      18.000000          1.000000     1.000000            1.0     1.000000   \n",
       "25%      30.000000          2.000000     2.000000            1.0  1108.250000   \n",
       "50%      36.000000          7.000000     3.000000            1.0  2208.500000   \n",
       "75%      43.000000         14.000000     4.000000            1.0  3308.750000   \n",
       "max      60.000000         29.000000     5.000000            1.0  4409.000000   \n",
       "\n",
       "          JobLevel  MonthlyIncome  NumCompaniesWorked  PercentSalaryHike  \\\n",
       "count  4382.000000    4382.000000         4382.000000        4382.000000   \n",
       "mean      2.063898   65061.702419            2.693291          15.210634   \n",
       "std       1.106115   47142.310175            2.497832           3.663007   \n",
       "min       1.000000   10090.000000            0.000000          11.000000   \n",
       "25%       1.000000   29110.000000            1.000000          12.000000   \n",
       "50%       2.000000   49190.000000            2.000000          14.000000   \n",
       "75%       3.000000   83790.000000            4.000000          18.000000   \n",
       "max       5.000000  199990.000000            9.000000          25.000000   \n",
       "\n",
       "       StandardHours  StockOptionLevel  TotalWorkingYears  \\\n",
       "count         4382.0       4382.000000        4382.000000   \n",
       "mean             8.0          0.794614          11.290278   \n",
       "std              0.0          0.852397           7.785717   \n",
       "min              8.0          0.000000           0.000000   \n",
       "25%              8.0          0.000000           6.000000   \n",
       "50%              8.0          1.000000          10.000000   \n",
       "75%              8.0          1.000000          15.000000   \n",
       "max              8.0          3.000000          40.000000   \n",
       "\n",
       "       TrainingTimesLastYear  YearsAtCompany  YearsSinceLastPromotion  \\\n",
       "count            4382.000000     4382.000000              4382.000000   \n",
       "mean                2.798266        7.010497                 2.191693   \n",
       "std                 1.289402        6.129351                 3.224994   \n",
       "min                 0.000000        0.000000                 0.000000   \n",
       "25%                 2.000000        3.000000                 0.000000   \n",
       "50%                 3.000000        5.000000                 1.000000   \n",
       "75%                 3.000000        9.000000                 3.000000   \n",
       "max                 6.000000       40.000000                15.000000   \n",
       "\n",
       "       YearsWithCurrManager  \n",
       "count           4382.000000  \n",
       "mean               4.126198  \n",
       "std                3.569674  \n",
       "min                0.000000  \n",
       "25%                2.000000  \n",
       "50%                3.000000  \n",
       "75%                7.000000  \n",
       "max               17.000000  "
      ]
     },
     "execution_count": 9,
     "metadata": {},
     "output_type": "execute_result"
    }
   ],
   "source": [
    "dataset.describe()"
   ]
  },
  {
   "cell_type": "markdown",
   "metadata": {},
   "source": [
    "1) **Mean**"
   ]
  },
  {
   "cell_type": "code",
   "execution_count": 10,
   "metadata": {},
   "outputs": [
    {
     "data": {
      "text/html": [
       "<div>\n",
       "<style scoped>\n",
       "    .dataframe tbody tr th:only-of-type {\n",
       "        vertical-align: middle;\n",
       "    }\n",
       "\n",
       "    .dataframe tbody tr th {\n",
       "        vertical-align: top;\n",
       "    }\n",
       "\n",
       "    .dataframe thead th {\n",
       "        text-align: right;\n",
       "    }\n",
       "</style>\n",
       "<table border=\"1\" class=\"dataframe\">\n",
       "  <thead>\n",
       "    <tr style=\"text-align: right;\">\n",
       "      <th></th>\n",
       "      <th>Age</th>\n",
       "      <th>DistanceFromHome</th>\n",
       "      <th>Education</th>\n",
       "      <th>EmployeeCount</th>\n",
       "      <th>EmployeeID</th>\n",
       "      <th>JobLevel</th>\n",
       "      <th>MonthlyIncome</th>\n",
       "      <th>NumCompaniesWorked</th>\n",
       "      <th>PercentSalaryHike</th>\n",
       "      <th>StandardHours</th>\n",
       "      <th>StockOptionLevel</th>\n",
       "      <th>TotalWorkingYears</th>\n",
       "      <th>TrainingTimesLastYear</th>\n",
       "      <th>YearsAtCompany</th>\n",
       "      <th>YearsSinceLastPromotion</th>\n",
       "      <th>YearsWithCurrManager</th>\n",
       "    </tr>\n",
       "    <tr>\n",
       "      <th>Attrition</th>\n",
       "      <th></th>\n",
       "      <th></th>\n",
       "      <th></th>\n",
       "      <th></th>\n",
       "      <th></th>\n",
       "      <th></th>\n",
       "      <th></th>\n",
       "      <th></th>\n",
       "      <th></th>\n",
       "      <th></th>\n",
       "      <th></th>\n",
       "      <th></th>\n",
       "      <th></th>\n",
       "      <th></th>\n",
       "      <th></th>\n",
       "      <th></th>\n",
       "    </tr>\n",
       "  </thead>\n",
       "  <tbody>\n",
       "    <tr>\n",
       "      <th>No</th>\n",
       "      <td>37.567038</td>\n",
       "      <td>9.232527</td>\n",
       "      <td>2.920044</td>\n",
       "      <td>1.0</td>\n",
       "      <td>2210.377482</td>\n",
       "      <td>2.069894</td>\n",
       "      <td>65684.209954</td>\n",
       "      <td>2.646451</td>\n",
       "      <td>15.157465</td>\n",
       "      <td>8.0</td>\n",
       "      <td>0.797661</td>\n",
       "      <td>11.868643</td>\n",
       "      <td>2.825129</td>\n",
       "      <td>7.367419</td>\n",
       "      <td>2.236062</td>\n",
       "      <td>4.367963</td>\n",
       "    </tr>\n",
       "    <tr>\n",
       "      <th>Yes</th>\n",
       "      <td>33.628369</td>\n",
       "      <td>9.024113</td>\n",
       "      <td>2.872340</td>\n",
       "      <td>1.0</td>\n",
       "      <td>2194.387234</td>\n",
       "      <td>2.032624</td>\n",
       "      <td>61814.950355</td>\n",
       "      <td>2.937589</td>\n",
       "      <td>15.487943</td>\n",
       "      <td>8.0</td>\n",
       "      <td>0.778723</td>\n",
       "      <td>8.273759</td>\n",
       "      <td>2.658156</td>\n",
       "      <td>5.148936</td>\n",
       "      <td>1.960284</td>\n",
       "      <td>2.865248</td>\n",
       "    </tr>\n",
       "  </tbody>\n",
       "</table>\n",
       "</div>"
      ],
      "text/plain": [
       "                 Age  DistanceFromHome  Education  EmployeeCount   EmployeeID  \\\n",
       "Attrition                                                                       \n",
       "No         37.567038          9.232527   2.920044            1.0  2210.377482   \n",
       "Yes        33.628369          9.024113   2.872340            1.0  2194.387234   \n",
       "\n",
       "           JobLevel  MonthlyIncome  NumCompaniesWorked  PercentSalaryHike  \\\n",
       "Attrition                                                                   \n",
       "No         2.069894   65684.209954            2.646451          15.157465   \n",
       "Yes        2.032624   61814.950355            2.937589          15.487943   \n",
       "\n",
       "           StandardHours  StockOptionLevel  TotalWorkingYears  \\\n",
       "Attrition                                                       \n",
       "No                   8.0          0.797661          11.868643   \n",
       "Yes                  8.0          0.778723           8.273759   \n",
       "\n",
       "           TrainingTimesLastYear  YearsAtCompany  YearsSinceLastPromotion  \\\n",
       "Attrition                                                                   \n",
       "No                      2.825129        7.367419                 2.236062   \n",
       "Yes                     2.658156        5.148936                 1.960284   \n",
       "\n",
       "           YearsWithCurrManager  \n",
       "Attrition                        \n",
       "No                     4.367963  \n",
       "Yes                    2.865248  "
      ]
     },
     "execution_count": 10,
     "metadata": {},
     "output_type": "execute_result"
    }
   ],
   "source": [
    "left = dataset.groupby('Attrition')\n",
    "left.mean()"
   ]
  },
  {
   "cell_type": "markdown",
   "metadata": {},
   "source": [
    "2) **Median**"
   ]
  },
  {
   "cell_type": "code",
   "execution_count": 11,
   "metadata": {},
   "outputs": [
    {
     "data": {
      "text/html": [
       "<div>\n",
       "<style scoped>\n",
       "    .dataframe tbody tr th:only-of-type {\n",
       "        vertical-align: middle;\n",
       "    }\n",
       "\n",
       "    .dataframe tbody tr th {\n",
       "        vertical-align: top;\n",
       "    }\n",
       "\n",
       "    .dataframe thead th {\n",
       "        text-align: right;\n",
       "    }\n",
       "</style>\n",
       "<table border=\"1\" class=\"dataframe\">\n",
       "  <thead>\n",
       "    <tr style=\"text-align: right;\">\n",
       "      <th></th>\n",
       "      <th>Age</th>\n",
       "      <th>DistanceFromHome</th>\n",
       "      <th>Education</th>\n",
       "      <th>EmployeeCount</th>\n",
       "      <th>EmployeeID</th>\n",
       "      <th>JobLevel</th>\n",
       "      <th>MonthlyIncome</th>\n",
       "      <th>NumCompaniesWorked</th>\n",
       "      <th>PercentSalaryHike</th>\n",
       "      <th>StandardHours</th>\n",
       "      <th>StockOptionLevel</th>\n",
       "      <th>TotalWorkingYears</th>\n",
       "      <th>TrainingTimesLastYear</th>\n",
       "      <th>YearsAtCompany</th>\n",
       "      <th>YearsSinceLastPromotion</th>\n",
       "      <th>YearsWithCurrManager</th>\n",
       "    </tr>\n",
       "    <tr>\n",
       "      <th>Attrition</th>\n",
       "      <th></th>\n",
       "      <th></th>\n",
       "      <th></th>\n",
       "      <th></th>\n",
       "      <th></th>\n",
       "      <th></th>\n",
       "      <th></th>\n",
       "      <th></th>\n",
       "      <th></th>\n",
       "      <th></th>\n",
       "      <th></th>\n",
       "      <th></th>\n",
       "      <th></th>\n",
       "      <th></th>\n",
       "      <th></th>\n",
       "      <th></th>\n",
       "    </tr>\n",
       "  </thead>\n",
       "  <tbody>\n",
       "    <tr>\n",
       "      <th>No</th>\n",
       "      <td>36</td>\n",
       "      <td>7</td>\n",
       "      <td>3</td>\n",
       "      <td>1</td>\n",
       "      <td>2216</td>\n",
       "      <td>2</td>\n",
       "      <td>49300</td>\n",
       "      <td>2.0</td>\n",
       "      <td>14</td>\n",
       "      <td>8</td>\n",
       "      <td>1</td>\n",
       "      <td>10.0</td>\n",
       "      <td>3</td>\n",
       "      <td>6</td>\n",
       "      <td>1</td>\n",
       "      <td>3</td>\n",
       "    </tr>\n",
       "    <tr>\n",
       "      <th>Yes</th>\n",
       "      <td>32</td>\n",
       "      <td>7</td>\n",
       "      <td>3</td>\n",
       "      <td>1</td>\n",
       "      <td>2165</td>\n",
       "      <td>2</td>\n",
       "      <td>49080</td>\n",
       "      <td>1.0</td>\n",
       "      <td>14</td>\n",
       "      <td>8</td>\n",
       "      <td>1</td>\n",
       "      <td>7.0</td>\n",
       "      <td>3</td>\n",
       "      <td>3</td>\n",
       "      <td>1</td>\n",
       "      <td>2</td>\n",
       "    </tr>\n",
       "  </tbody>\n",
       "</table>\n",
       "</div>"
      ],
      "text/plain": [
       "           Age  DistanceFromHome  Education  EmployeeCount  EmployeeID  \\\n",
       "Attrition                                                                \n",
       "No          36                 7          3              1        2216   \n",
       "Yes         32                 7          3              1        2165   \n",
       "\n",
       "           JobLevel  MonthlyIncome  NumCompaniesWorked  PercentSalaryHike  \\\n",
       "Attrition                                                                   \n",
       "No                2          49300                 2.0                 14   \n",
       "Yes               2          49080                 1.0                 14   \n",
       "\n",
       "           StandardHours  StockOptionLevel  TotalWorkingYears  \\\n",
       "Attrition                                                       \n",
       "No                     8                 1               10.0   \n",
       "Yes                    8                 1                7.0   \n",
       "\n",
       "           TrainingTimesLastYear  YearsAtCompany  YearsSinceLastPromotion  \\\n",
       "Attrition                                                                   \n",
       "No                             3               6                        1   \n",
       "Yes                            3               3                        1   \n",
       "\n",
       "           YearsWithCurrManager  \n",
       "Attrition                        \n",
       "No                            3  \n",
       "Yes                           2  "
      ]
     },
     "execution_count": 11,
     "metadata": {},
     "output_type": "execute_result"
    }
   ],
   "source": [
    "left.median()"
   ]
  },
  {
   "cell_type": "markdown",
   "metadata": {},
   "source": [
    "3) **Mode**"
   ]
  },
  {
   "cell_type": "code",
   "execution_count": 12,
   "metadata": {},
   "outputs": [
    {
     "data": {
      "text/html": [
       "<div>\n",
       "<style scoped>\n",
       "    .dataframe tbody tr th:only-of-type {\n",
       "        vertical-align: middle;\n",
       "    }\n",
       "\n",
       "    .dataframe tbody tr th {\n",
       "        vertical-align: top;\n",
       "    }\n",
       "\n",
       "    .dataframe thead th {\n",
       "        text-align: right;\n",
       "    }\n",
       "</style>\n",
       "<table border=\"1\" class=\"dataframe\">\n",
       "  <thead>\n",
       "    <tr style=\"text-align: right;\">\n",
       "      <th></th>\n",
       "      <th>Age</th>\n",
       "      <th>DistanceFromHome</th>\n",
       "      <th>Education</th>\n",
       "      <th>JobLevel</th>\n",
       "      <th>MonthlyIncome</th>\n",
       "      <th>PercentSalaryHike</th>\n",
       "      <th>TotalWorkingYears</th>\n",
       "    </tr>\n",
       "  </thead>\n",
       "  <tbody>\n",
       "    <tr>\n",
       "      <th>0</th>\n",
       "      <td>31.0</td>\n",
       "      <td>2.0</td>\n",
       "      <td>3.0</td>\n",
       "      <td>2.0</td>\n",
       "      <td>25590</td>\n",
       "      <td>13.0</td>\n",
       "      <td>1.0</td>\n",
       "    </tr>\n",
       "    <tr>\n",
       "      <th>1</th>\n",
       "      <td>NaN</td>\n",
       "      <td>NaN</td>\n",
       "      <td>NaN</td>\n",
       "      <td>NaN</td>\n",
       "      <td>27410</td>\n",
       "      <td>NaN</td>\n",
       "      <td>NaN</td>\n",
       "    </tr>\n",
       "    <tr>\n",
       "      <th>2</th>\n",
       "      <td>NaN</td>\n",
       "      <td>NaN</td>\n",
       "      <td>NaN</td>\n",
       "      <td>NaN</td>\n",
       "      <td>27430</td>\n",
       "      <td>NaN</td>\n",
       "      <td>NaN</td>\n",
       "    </tr>\n",
       "    <tr>\n",
       "      <th>3</th>\n",
       "      <td>NaN</td>\n",
       "      <td>NaN</td>\n",
       "      <td>NaN</td>\n",
       "      <td>NaN</td>\n",
       "      <td>28860</td>\n",
       "      <td>NaN</td>\n",
       "      <td>NaN</td>\n",
       "    </tr>\n",
       "    <tr>\n",
       "      <th>4</th>\n",
       "      <td>NaN</td>\n",
       "      <td>NaN</td>\n",
       "      <td>NaN</td>\n",
       "      <td>NaN</td>\n",
       "      <td>55620</td>\n",
       "      <td>NaN</td>\n",
       "      <td>NaN</td>\n",
       "    </tr>\n",
       "  </tbody>\n",
       "</table>\n",
       "</div>"
      ],
      "text/plain": [
       "    Age  DistanceFromHome  Education  JobLevel  MonthlyIncome  \\\n",
       "0  31.0               2.0        3.0       2.0          25590   \n",
       "1   NaN               NaN        NaN       NaN          27410   \n",
       "2   NaN               NaN        NaN       NaN          27430   \n",
       "3   NaN               NaN        NaN       NaN          28860   \n",
       "4   NaN               NaN        NaN       NaN          55620   \n",
       "\n",
       "   PercentSalaryHike  TotalWorkingYears  \n",
       "0               13.0                1.0  \n",
       "1                NaN                NaN  \n",
       "2                NaN                NaN  \n",
       "3                NaN                NaN  \n",
       "4                NaN                NaN  "
      ]
     },
     "execution_count": 12,
     "metadata": {},
     "output_type": "execute_result"
    }
   ],
   "source": [
    "data_y = dataset.loc[dataset['Attrition']=='Yes']\n",
    "data_y[['Age','DistanceFromHome','Education','JobLevel','MonthlyIncome','PercentSalaryHike','TotalWorkingYears']].mode()"
   ]
  },
  {
   "cell_type": "markdown",
   "metadata": {},
   "source": [
    "## Inference drawn from the Measure of Central Tendency Analysis : - \n",
    "\n",
    "  1) The average \"Age\" of the employee leaving is lesser than those staying. Also, mode(most common age) of the employees who are leaving is 31 , which are much less compared to the average age of employees(36.9). This can be because the younger\n",
    "    employees want to explore more companies in their career and choose the best one.\n",
    "    \n",
    "    \n",
    "  2) The average \" Distance From Home,Education\"  of the employees is almost equal, so it doesnot \n",
    "  have a major role in attrition rate.\n",
    "  \n",
    "  3) The average \"Monthly Income, StockOptionLevel.\" of the employee leaving is also lesser than those staying. So, some employees maybe leaving the company due to lower salaries as well.\n",
    "  \n",
    "  4) The average \"NumCompaniesWorked\" is more and the \"TrainingTimesLastYear, YearsAtCompany\" are lesser for the employee leaving . This shows that the ones who are leaving have a general tendency/behaviour to change the companies.\n",
    "  \n",
    "  5) Some Strange observations are that the average \"PercentSalaryHike\" is more for the employees who are leaving and \"TotalWorkingYears\" are less for the the employees leaving.\n",
    "  \n",
    "  6) The average \"YearsSinceLastPromotion\" is lesser in the employees who are leaving. So, getting no promotion maybe one of the reasons for atrrition."
   ]
  },
  {
   "cell_type": "markdown",
   "metadata": {},
   "source": [
    "4) **Variance and Standard Deviation** "
   ]
  },
  {
   "cell_type": "code",
   "execution_count": 13,
   "metadata": {},
   "outputs": [
    {
     "data": {
      "text/plain": [
       "Age                        8.348974e+01\n",
       "DistanceFromHome           6.569744e+01\n",
       "Education                  1.050068e+00\n",
       "MonthlyIncome              2.222397e+09\n",
       "NumCompaniesWorked         6.239165e+00\n",
       "PercentSalaryHike          1.341762e+01\n",
       "TotalWorkingYears          6.061739e+01\n",
       "TrainingTimesLastYear      1.662558e+00\n",
       "YearsAtCompany             3.756894e+01\n",
       "YearsSinceLastPromotion    1.040059e+01\n",
       "YearsWithCurrManager       1.274257e+01\n",
       "dtype: float64"
      ]
     },
     "execution_count": 13,
     "metadata": {},
     "output_type": "execute_result"
    }
   ],
   "source": [
    "dataset[['Age','DistanceFromHome','Education','MonthlyIncome',\n",
    "'NumCompaniesWorked', 'PercentSalaryHike','TotalWorkingYears', 'TrainingTimesLastYear',\n",
    "'YearsAtCompany','YearsSinceLastPromotion', 'YearsWithCurrManager']].var()"
   ]
  },
  {
   "cell_type": "code",
   "execution_count": 14,
   "metadata": {},
   "outputs": [
    {
     "name": "stdout",
     "output_type": "stream",
     "text": [
      "Age                        9.367988e+01\n",
      "DistanceFromHome           6.014288e+01\n",
      "Education                  1.029134e+00\n",
      "EmployeeCount              0.000000e+00\n",
      "EmployeeID                 1.613939e+06\n",
      "JobLevel                   1.099786e+00\n",
      "MonthlyIncome              2.015153e+09\n",
      "NumCompaniesWorked         7.189281e+00\n",
      "PercentSalaryHike          1.433260e+01\n",
      "StandardHours              0.000000e+00\n",
      "StockOptionLevel           7.350580e-01\n",
      "TotalWorkingYears          5.150592e+01\n",
      "TrainingTimesLastYear      1.336102e+00\n",
      "YearsAtCompany             3.553318e+01\n",
      "YearsSinceLastPromotion    9.970011e+00\n",
      "YearsWithCurrManager       9.900850e+00\n",
      "dtype: float64\n"
     ]
    }
   ],
   "source": [
    "data_y = dataset.loc[dataset['Attrition']=='Yes']\n",
    "data_n = dataset.loc[dataset['Attrition']=='No']\n",
    "print(data_y.var())\n",
    "#left the company"
   ]
  },
  {
   "cell_type": "code",
   "execution_count": 15,
   "metadata": {},
   "outputs": [
    {
     "name": "stdout",
     "output_type": "stream",
     "text": [
      "Age                        7.906440e+01\n",
      "DistanceFromHome           6.677209e+01\n",
      "Education                  1.053997e+00\n",
      "EmployeeCount              0.000000e+00\n",
      "EmployeeID                 1.618214e+06\n",
      "JobLevel                   1.247290e+00\n",
      "MonthlyIncome              2.260283e+09\n",
      "NumCompaniesWorked         6.045263e+00\n",
      "PercentSalaryHike          1.322846e+01\n",
      "StandardHours              0.000000e+00\n",
      "StockOptionLevel           7.250979e-01\n",
      "TotalWorkingYears          6.029912e+01\n",
      "TrainingTimesLastYear      1.721044e+00\n",
      "YearsAtCompany             3.717699e+01\n",
      "YearsSinceLastPromotion    1.047364e+01\n",
      "YearsWithCurrManager       1.292686e+01\n",
      "dtype: float64\n"
     ]
    }
   ],
   "source": [
    "#did not leave the company\n",
    "print(data_n.var())"
   ]
  },
  {
   "cell_type": "markdown",
   "metadata": {},
   "source": [
    "## Inferences from Dispersion measures analysis-\n",
    "\n",
    "1) The variance or deviation is seen less in the employees with no attrition. \n",
    "\n",
    "2) There is more consistency in some fields like Years since last promotion, years with current manager in the employees with no attrition."
   ]
  },
  {
   "cell_type": "markdown",
   "metadata": {},
   "source": [
    "6) **Skewness**"
   ]
  },
  {
   "cell_type": "code",
   "execution_count": 16,
   "metadata": {},
   "outputs": [
    {
     "data": {
      "text/plain": [
       "Age                        0.413048\n",
       "DistanceFromHome           0.955517\n",
       "Education                 -0.288977\n",
       "MonthlyIncome              1.367457\n",
       "NumCompaniesWorked         1.029174\n",
       "PercentSalaryHike          0.819510\n",
       "TotalWorkingYears          1.115419\n",
       "TrainingTimesLastYear      0.551818\n",
       "YearsAtCompany             1.764619\n",
       "YearsSinceLastPromotion    1.980992\n",
       "YearsWithCurrManager       0.834277\n",
       "dtype: float64"
      ]
     },
     "execution_count": 16,
     "metadata": {},
     "output_type": "execute_result"
    }
   ],
   "source": [
    "dataset[['Age','DistanceFromHome','Education','MonthlyIncome',\n",
    "'NumCompaniesWorked', 'PercentSalaryHike','TotalWorkingYears', 'TrainingTimesLastYear',\n",
    "'YearsAtCompany','YearsSinceLastPromotion', 'YearsWithCurrManager']].skew()"
   ]
  },
  {
   "cell_type": "code",
   "execution_count": 17,
   "metadata": {},
   "outputs": [
    {
     "data": {
      "text/plain": [
       "Age                        0.714479\n",
       "DistanceFromHome           0.957983\n",
       "Education                 -0.217029\n",
       "EmployeeCount              0.000000\n",
       "EmployeeID                 0.001186\n",
       "JobLevel                   1.053776\n",
       "MonthlyIncome              1.536183\n",
       "NumCompaniesWorked         0.864889\n",
       "PercentSalaryHike          0.760011\n",
       "StandardHours              0.000000\n",
       "StockOptionLevel           0.956491\n",
       "TotalWorkingYears          1.674396\n",
       "TrainingTimesLastYear      0.416718\n",
       "YearsAtCompany             2.659829\n",
       "YearsSinceLastPromotion    2.195541\n",
       "YearsWithCurrManager       1.017582\n",
       "dtype: float64"
      ]
     },
     "execution_count": 17,
     "metadata": {},
     "output_type": "execute_result"
    }
   ],
   "source": [
    "data_y.skew() # attrition yes"
   ]
  },
  {
   "cell_type": "code",
   "execution_count": 18,
   "metadata": {},
   "outputs": [
    {
     "data": {
      "text/plain": [
       "Age                        0.406885\n",
       "DistanceFromHome           0.953779\n",
       "Education                 -0.303039\n",
       "EmployeeCount              0.000000\n",
       "EmployeeID                -0.003028\n",
       "JobLevel                   1.014550\n",
       "MonthlyIncome              1.337715\n",
       "NumCompaniesWorked         1.060904\n",
       "PercentSalaryHike          0.830327\n",
       "StandardHours              0.000000\n",
       "StockOptionLevel           0.970007\n",
       "TotalWorkingYears          1.065443\n",
       "TrainingTimesLastYear      0.556424\n",
       "YearsAtCompany             1.658986\n",
       "YearsSinceLastPromotion    1.944890\n",
       "YearsWithCurrManager       0.803398\n",
       "dtype: float64"
      ]
     },
     "execution_count": 18,
     "metadata": {},
     "output_type": "execute_result"
    }
   ],
   "source": [
    "data_n.skew() #attrition no"
   ]
  },
  {
   "cell_type": "markdown",
   "metadata": {},
   "source": [
    "7) **Kurtosis**"
   ]
  },
  {
   "cell_type": "code",
   "execution_count": 19,
   "metadata": {},
   "outputs": [
    {
     "data": {
      "text/plain": [
       "Age                       -0.409517\n",
       "DistanceFromHome          -0.230691\n",
       "Education                 -0.565008\n",
       "MonthlyIncome              0.990836\n",
       "NumCompaniesWorked         0.014307\n",
       "PercentSalaryHike         -0.306951\n",
       "TotalWorkingYears          0.909316\n",
       "TrainingTimesLastYear      0.494215\n",
       "YearsAtCompany             3.930726\n",
       "YearsSinceLastPromotion    3.592162\n",
       "YearsWithCurrManager       0.170703\n",
       "dtype: float64"
      ]
     },
     "execution_count": 19,
     "metadata": {},
     "output_type": "execute_result"
    }
   ],
   "source": [
    "dataset[['Age','DistanceFromHome','Education','MonthlyIncome',\n",
    "'NumCompaniesWorked', 'PercentSalaryHike','TotalWorkingYears', 'TrainingTimesLastYear',\n",
    "'YearsAtCompany','YearsSinceLastPromotion', 'YearsWithCurrManager']].kurt()"
   ]
  },
  {
   "cell_type": "code",
   "execution_count": 20,
   "metadata": {},
   "outputs": [
    {
     "data": {
      "text/plain": [
       "Age                       -0.073388\n",
       "DistanceFromHome          -0.050913\n",
       "Education                 -0.632511\n",
       "EmployeeCount              0.000000\n",
       "EmployeeID                -1.211662\n",
       "JobLevel                   0.624243\n",
       "MonthlyIncome              1.636083\n",
       "NumCompaniesWorked        -0.552946\n",
       "PercentSalaryHike         -0.432517\n",
       "StandardHours              0.000000\n",
       "StockOptionLevel           0.245353\n",
       "TotalWorkingYears          3.673837\n",
       "TrainingTimesLastYear      0.964115\n",
       "YearsAtCompany             9.366724\n",
       "YearsSinceLastPromotion    4.711054\n",
       "YearsWithCurrManager       0.219179\n",
       "dtype: float64"
      ]
     },
     "execution_count": 20,
     "metadata": {},
     "output_type": "execute_result"
    }
   ],
   "source": [
    "data_y.kurt() #yes attrition"
   ]
  },
  {
   "cell_type": "code",
   "execution_count": 21,
   "metadata": {},
   "outputs": [
    {
     "data": {
      "text/plain": [
       "Age                       -0.417785\n",
       "DistanceFromHome          -0.264079\n",
       "Education                 -0.549711\n",
       "EmployeeCount              0.000000\n",
       "EmployeeID                -1.196165\n",
       "JobLevel                   0.344379\n",
       "MonthlyIncome              0.888027\n",
       "NumCompaniesWorked         0.145967\n",
       "PercentSalaryHike         -0.283132\n",
       "StandardHours              0.000000\n",
       "StockOptionLevel           0.380699\n",
       "TotalWorkingYears          0.670740\n",
       "TrainingTimesLastYear      0.396037\n",
       "YearsAtCompany             3.353232\n",
       "YearsSinceLastPromotion    3.416100\n",
       "YearsWithCurrManager       0.140282\n",
       "dtype: float64"
      ]
     },
     "execution_count": 21,
     "metadata": {},
     "output_type": "execute_result"
    }
   ],
   "source": [
    "data_n.kurt() #no attrition"
   ]
  },
  {
   "cell_type": "markdown",
   "metadata": {},
   "source": [
    "## Inferences from skweness and kurtosis - \n",
    "\n",
    "1)All the variables show postive skewness except Education, which shows negative skewness. \n",
    "\n",
    "2) While most of the variables are fairly symmetrical(-0.5:0.5) or moderatley skewed, some variables like monthly income,YearsSinceLastPromotion are highly skewed.\n",
    "\n",
    "3)Overall, the age and diatance from home of the employees of the company are platykurtic and others are leptokurtic.\n",
    "\n",
    "4)For the employess who have left the company(with attrition) Age,NumCompaniesWorked,PercentSalaryHike are platykurtic.\n"
   ]
  },
  {
   "cell_type": "markdown",
   "metadata": {},
   "source": [
    "8) **Outliers**"
   ]
  },
  {
   "cell_type": "markdown",
   "metadata": {},
   "source": [
    "There’s no regression found while plotting Age, MonthlyIncome, TotalWorkingYears,\n",
    "YearsAtCompany, etc., on a scatter plot\n"
   ]
  },
  {
   "cell_type": "code",
   "execution_count": 22,
   "metadata": {},
   "outputs": [
    {
     "data": {
      "image/png": "[encoded data removed]",
      "text/plain": [
       "<Figure size 432x288 with 1 Axes>"
      ]
     },
     "metadata": {
      "needs_background": "light"
     },
     "output_type": "display_data"
    }
   ],
   "source": [
    "# Boxplot of overall age, age of employees with attrition and age of employees without attrition\n",
    "data = [dataset.Age,data_y.Age,data_n.Age]\n",
    "colors = ['red','green','blue']\n",
    "fig, ax = plt.subplots()\n",
    "box_dict = ax.boxplot(data, patch_artist=True,  showmeans=True)\n",
    "for item in ['boxes', 'fliers', 'medians', 'means']:\n",
    "    for sub_item,color in zip(box_dict[item], colors):\n",
    "        plt.setp(sub_item, color=color)\n",
    "# whiskers and caps have to be treated separately since there are two of each for each plot\n",
    "for item in ['whiskers', 'caps']:\n",
    "    for sub_items,color in zip(zip(box_dict[item][::2],box_dict[item][1::2]),colors):\n",
    "        plt.setp(sub_items, color=color)"
   ]
  },
  {
   "cell_type": "markdown",
   "metadata": {},
   "source": [
    "Overall, Age is normally distributed without any outliers. \n",
    "\n",
    "But, the age of the employees with attrition have 2 outliers and is near to  normal."
   ]
  },
  {
   "cell_type": "code",
   "execution_count": 23,
   "metadata": {},
   "outputs": [
    {
     "data": {
      "image/png": "[encoded data removed]",
      "text/plain": [
       "<Figure size 432x288 with 1 Axes>"
      ]
     },
     "metadata": {
      "needs_background": "light"
     },
     "output_type": "display_data"
    }
   ],
   "source": [
    "#plt.boxplot(dataset.MonthlyIncome)\n",
    "data = [dataset.MonthlyIncome,data_y.MonthlyIncome,data_n.MonthlyIncome]\n",
    "colors = ['red','green','blue']\n",
    "fig, ax = plt.subplots()\n",
    "box_dict = ax.boxplot(data, patch_artist=True,  showmeans=True)\n",
    "for item in ['boxes', 'fliers', 'medians', 'means']:\n",
    "    for sub_item,color in zip(box_dict[item], colors):\n",
    "        plt.setp(sub_item, color=color)\n",
    "# whiskers and caps have to be treated separately since there are two of each for each plot\n",
    "for item in ['whiskers', 'caps']:\n",
    "    for sub_items,color in zip(zip(box_dict[item][::2],box_dict[item][1::2]),colors):\n",
    "        plt.setp(sub_items, color=color)"
   ]
  },
  {
   "cell_type": "markdown",
   "metadata": {},
   "source": [
    "Overall, Monthly Income is Right skewed with many outliers.\n",
    "\n",
    "The Monthly Income of the employees with attrition is right skewed with many outliers."
   ]
  },
  {
   "cell_type": "code",
   "execution_count": 24,
   "metadata": {},
   "outputs": [
    {
     "data": {
      "image/png": "[encoded data removed]",
      "text/plain": [
       "<Figure size 432x288 with 1 Axes>"
      ]
     },
     "metadata": {
      "needs_background": "light"
     },
     "output_type": "display_data"
    }
   ],
   "source": [
    "# Boxplot of overall YearsAtCompany, YearsAtCompanyof employees with attrition and YearsAtCompany of employees without attrition\n",
    "data = [dataset.YearsAtCompany,data_y.YearsAtCompany,data_n.YearsAtCompany]\n",
    "colors = ['red','green','blue']\n",
    "fig, ax = plt.subplots()\n",
    "box_dict = ax.boxplot(data, patch_artist=True,  showmeans=True)\n",
    "for item in ['boxes', 'fliers', 'medians', 'means']:\n",
    "    for sub_item,color in zip(box_dict[item], colors):\n",
    "        plt.setp(sub_item, color=color)\n",
    "# whiskers and caps have to be treated separately since there are two of each for each plot\n",
    "for item in ['whiskers', 'caps']:\n",
    "    for sub_items,color in zip(zip(box_dict[item][::2],box_dict[item][1::2]),colors):\n",
    "        plt.setp(sub_items, color=color)"
   ]
  },
  {
   "cell_type": "markdown",
   "metadata": {},
   "source": [
    "Years at company is also Right Skewed with several outliers observed. "
   ]
  },
  {
   "cell_type": "markdown",
   "metadata": {},
   "source": [
    "### Stage - 4: Visualisation"
   ]
  },
  {
   "cell_type": "markdown",
   "metadata": {},
   "source": [
    "#### Age : Attrition"
   ]
  },
  {
   "cell_type": "code",
   "execution_count": 25,
   "metadata": {},
   "outputs": [
    {
     "data": {
      "image/png": "[encoded data removed]",
      "text/plain": [
       "<Figure size 432x288 with 1 Axes>"
      ]
     },
     "metadata": {
      "needs_background": "light"
     },
     "output_type": "display_data"
    }
   ],
   "source": [
    "x=data_y.Age\n",
    "y=data_n.Age\n",
    "bins=10\n",
    "plt.hist([x, y], bins, label=['YES', 'No'])\n",
    "plt.show()"
   ]
  },
  {
   "cell_type": "markdown",
   "metadata": {},
   "source": [
    "Most of the employees who left the company(with attrition) are younger. "
   ]
  },
  {
   "cell_type": "markdown",
   "metadata": {},
   "source": [
    "#### Business Travel : Attrition"
   ]
  },
  {
   "cell_type": "code",
   "execution_count": 26,
   "metadata": {},
   "outputs": [
    {
     "data": {
      "image/png": "[encoded data removed]",
      "text/plain": [
       "<Figure size 720x360 with 2 Axes>"
      ]
     },
     "metadata": {},
     "output_type": "display_data"
    }
   ],
   "source": [
    "import seaborn as sns\n",
    "sns.set(style=\"darkgrid\")\n",
    "g = sns.catplot(x=\"BusinessTravel\", col=\"Attrition\",\n",
    "                data=dataset, kind=\"count\"\n",
    "                );"
   ]
  },
  {
   "cell_type": "markdown",
   "metadata": {},
   "source": [
    "The employees who travel rarely have lesser attrition rates."
   ]
  },
  {
   "cell_type": "markdown",
   "metadata": {},
   "source": [
    "#### Department : Attrition"
   ]
  },
  {
   "cell_type": "code",
   "execution_count": 27,
   "metadata": {},
   "outputs": [
    {
     "data": {
      "image/png": "[encoded data removed]",
      "text/plain": [
       "<Figure size 720x360 with 2 Axes>"
      ]
     },
     "metadata": {},
     "output_type": "display_data"
    }
   ],
   "source": [
    "g = sns.catplot(x=\"Department\", col=\"Attrition\",\n",
    "                data=dataset, kind=\"count\"\n",
    "                );"
   ]
  },
  {
   "cell_type": "markdown",
   "metadata": {},
   "source": [
    "Most of the employees who stay as well as leave the company are from R&D department."
   ]
  },
  {
   "cell_type": "markdown",
   "metadata": {},
   "source": [
    "#### Attrition : Gender"
   ]
  },
  {
   "cell_type": "code",
   "execution_count": 58,
   "metadata": {},
   "outputs": [
    {
     "data": {
      "image/png": "[encoded data removed]",
      "text/plain": [
       "<Figure size 432x288 with 1 Axes>"
      ]
     },
     "metadata": {},
     "output_type": "display_data"
    }
   ],
   "source": [
    "sums = dataset.Attrition.groupby(dataset.Gender).sum()\n",
    "plt.axis('equal');\n",
    "plt.pie(sums, labels=sums.index);\n",
    "plt.show()"
   ]
  },
  {
   "cell_type": "markdown",
   "metadata": {},
   "source": [
    "More percentage of males have left the company."
   ]
  },
  {
   "cell_type": "markdown",
   "metadata": {},
   "source": [
    "#### Attrition vs Education Field"
   ]
  },
  {
   "cell_type": "code",
   "execution_count": 29,
   "metadata": {},
   "outputs": [
    {
     "data": {
      "image/png": "[encoded data removed]",
      "text/plain": [
       "<Figure size 720x360 with 2 Axes>"
      ]
     },
     "metadata": {},
     "output_type": "display_data"
    }
   ],
   "source": [
    "g = sns.catplot(x=\"EducationField\", col=\"Attrition\",\n",
    "                data=dataset, kind=\"count\"\n",
    "                );"
   ]
  },
  {
   "cell_type": "markdown",
   "metadata": {},
   "source": [
    "#### Attrition: Yrs at company"
   ]
  },
  {
   "cell_type": "code",
   "execution_count": 30,
   "metadata": {},
   "outputs": [
    {
     "data": {
      "image/png": "[encoded data removed]",
      "text/plain": [
       "<Figure size 432x288 with 1 Axes>"
      ]
     },
     "metadata": {},
     "output_type": "display_data"
    }
   ],
   "source": [
    "x=data_y.YearsAtCompany\n",
    "y=data_n.YearsAtCompany\n",
    "bins=10\n",
    "plt.hist([x, y], bins, label=['YES', 'No'])\n",
    "plt.show()"
   ]
  },
  {
   "cell_type": "markdown",
   "metadata": {},
   "source": [
    "Employees who have spent more years at company have very less attrition rate. This means that the new employees have higher tendency of attrition."
   ]
  },
  {
   "cell_type": "markdown",
   "metadata": {},
   "source": [
    "## Step 5: Statistical tests : \n",
    "#### Man Whitney tests"
   ]
  },
  {
   "cell_type": "markdown",
   "metadata": {},
   "source": [
    "#### Age: Attrition"
   ]
  },
  {
   "cell_type": "code",
   "execution_count": 31,
   "metadata": {},
   "outputs": [
    {
     "name": "stdout",
     "output_type": "stream",
     "text": [
      "Attrition   No  Yes\n",
      "Age                \n",
      "18          12   11\n",
      "19           9   18\n",
      "20          15   18\n",
      "21          21   18\n",
      "22          32   15\n",
      "23          30   12\n",
      "24          57   21\n",
      "25          60   18\n",
      "26          80   36\n",
      "27         134    9\n",
      "28         102   40\n",
      "29         149   53\n",
      "30         152   27\n",
      "31         152   54\n",
      "32         149   33\n",
      "33         137   36\n",
      "34         204   27\n",
      "35         203   30\n",
      "36         187   18\n",
      "37         131   17\n",
      "38         167    6\n",
      "39         107   18\n",
      "40         153   15\n",
      "41         101   18\n",
      "42         131    6\n",
      "43          89    6\n",
      "44          81   18\n",
      "45         117    6\n",
      "46          87   12\n",
      "47          63    8\n",
      "48          51    6\n",
      "49          66    6\n",
      "50          75   15\n",
      "51          51    6\n",
      "52          44    9\n",
      "53          51    6\n",
      "54          54    0\n",
      "55          57    9\n",
      "56          32    9\n",
      "57          12    0\n",
      "58          27   15\n",
      "59          30    0\n",
      "60          15    0\n"
     ]
    }
   ],
   "source": [
    "from scipy.stats import mannwhitneyu\n",
    "chitable = pd.crosstab(dataset.Age,dataset.Attrition)\n",
    "print(chitable)"
   ]
  },
  {
   "cell_type": "code",
   "execution_count": 32,
   "metadata": {},
   "outputs": [
    {
     "name": "stdout",
     "output_type": "stream",
     "text": [
      "169.0 3.309751774702772e-11\n"
     ]
    }
   ],
   "source": [
    "stats,p = mannwhitneyu(chitable.No,chitable.Yes)\n",
    "print(stats,p)"
   ]
  },
  {
   "cell_type": "markdown",
   "metadata": {},
   "source": [
    "H0 : There is no significant difference between age of employees who left the company(YES) and those who did not(NO).\n",
    "\n",
    "H1 : There is a significant difference between age of employees who left the company(YES) and those who did not(NO).\n",
    "\n",
    "As, p<0.05: reject H0.\n",
    "\n",
    "So, There is a significant difference age of employees who left the company(YES) and those who did not(NO)."
   ]
  },
  {
   "cell_type": "markdown",
   "metadata": {},
   "source": [
    "#### Attrition Vs Distance from Home"
   ]
  },
  {
   "cell_type": "code",
   "execution_count": 34,
   "metadata": {},
   "outputs": [
    {
     "name": "stdout",
     "output_type": "stream",
     "text": [
      "Attrition          No  Yes\n",
      "DistanceFromHome          \n",
      "1                 528   94\n",
      "2                 513  114\n",
      "3                 219   29\n",
      "4                 158   32\n",
      "5                 162   30\n",
      "6                 156   21\n",
      "7                 204   48\n",
      "8                 206   33\n",
      "9                 218   35\n",
      "10                198   60\n",
      "11                 78    9\n",
      "12                 44   15\n",
      "13                 53    3\n",
      "14                 59    3\n",
      "15                 45   33\n",
      "16                 80   15\n",
      "17                 48   12\n",
      "18                 63   15\n",
      "19                 48   18\n",
      "20                 65    9\n",
      "21                 48    6\n",
      "22                 48    9\n",
      "23                 68   12\n",
      "24                 75    9\n",
      "25                 69    6\n",
      "26                 72    3\n",
      "27                 27    9\n",
      "28                 56   11\n",
      "29                 69   12\n"
     ]
    }
   ],
   "source": [
    "from scipy.stats import mannwhitneyu\n",
    "chitable = pd.crosstab(dataset.DistanceFromHome,dataset.Attrition)\n",
    "print(chitable)"
   ]
  },
  {
   "cell_type": "code",
   "execution_count": 35,
   "metadata": {},
   "outputs": [
    {
     "name": "stdout",
     "output_type": "stream",
     "text": [
      "59.0 9.615899502737067e-09\n"
     ]
    }
   ],
   "source": [
    "stats,p = mannwhitneyu(chitable.No,chitable.Yes)\n",
    "print(stats,p)"
   ]
  },
  {
   "cell_type": "markdown",
   "metadata": {},
   "source": [
    "H0 : There is no significant difference between DistanceFromHome of employees who left the company(YES) and those who did not(NO).\n",
    "\n",
    "H1 : There is a significant difference between DistanceFromHome of employees who left the company(YES) and those who did not(NO).\n",
    "\n",
    "As, p<0.05: reject H0.\n",
    "\n",
    "So, There is a significant difference in DistanceFromHome of employees who left the company(YES) and those who did not(NO)."
   ]
  },
  {
   "cell_type": "markdown",
   "metadata": {},
   "source": [
    "### Attrition Vs Income"
   ]
  },
  {
   "cell_type": "code",
   "execution_count": 36,
   "metadata": {},
   "outputs": [
    {
     "name": "stdout",
     "output_type": "stream",
     "text": [
      "Attrition      No  Yes\n",
      "MonthlyIncome         \n",
      "10090           0    3\n",
      "10510           3    0\n",
      "10520           3    0\n",
      "10810           3    0\n",
      "10910           3    0\n",
      "...            ..  ...\n",
      "198590          0    3\n",
      "199260          3    0\n",
      "199430          3    0\n",
      "199730          3    0\n",
      "199990          3    0\n",
      "\n",
      "[1349 rows x 2 columns]\n",
      "284033.5 1.1844333434265164e-269\n"
     ]
    }
   ],
   "source": [
    "from scipy.stats import mannwhitneyu\n",
    "chitable = pd.crosstab(dataset.MonthlyIncome,dataset.Attrition)\n",
    "print(chitable)\n",
    "\n",
    "stats,p = mannwhitneyu(chitable.No,chitable.Yes)\n",
    "print(stats,p)"
   ]
  },
  {
   "cell_type": "markdown",
   "metadata": {},
   "source": [
    "H0 : There is no significant difference between Income of employees who left the company(YES) and those who did not(NO).\n",
    "\n",
    "H1 : There is a significant difference between Income of employees who left the company(YES) and those who did not(NO).\n",
    "\n",
    "As, p<0.05: reject H0.\n",
    "\n",
    "So, There is a significant difference in DistanceFromHome of employees who left the company(YES) and those who did not(NO)."
   ]
  },
  {
   "cell_type": "markdown",
   "metadata": {},
   "source": [
    "#### Attrition vs PercentSalaryHike"
   ]
  },
  {
   "cell_type": "code",
   "execution_count": 37,
   "metadata": {},
   "outputs": [
    {
     "name": "stdout",
     "output_type": "stream",
     "text": [
      "Attrition           No  Yes\n",
      "PercentSalaryHike          \n",
      "11                 538   90\n",
      "12                 502   89\n",
      "13                 522  100\n",
      "14                 510   87\n",
      "15                 239   63\n",
      "16                 202   29\n",
      "17                 199   43\n",
      "18                 227   39\n",
      "19                 186   42\n",
      "20                 138   27\n",
      "21                 115   27\n",
      "22                 138   30\n",
      "23                  68   15\n",
      "24                  54    9\n",
      "25                  39   15\n"
     ]
    }
   ],
   "source": [
    "from scipy.stats import mannwhitneyu\n",
    "chitable = pd.crosstab(dataset.PercentSalaryHike,dataset.Attrition)\n",
    "print(chitable)"
   ]
  },
  {
   "cell_type": "code",
   "execution_count": 38,
   "metadata": {},
   "outputs": [
    {
     "name": "stdout",
     "output_type": "stream",
     "text": [
      "16.5 3.701943462476957e-05\n"
     ]
    }
   ],
   "source": [
    "stats,p = mannwhitneyu(chitable.No,chitable.Yes)\n",
    "print(stats,p)"
   ]
  },
  {
   "cell_type": "markdown",
   "metadata": {},
   "source": [
    "H0 : There is no significant difference between PercentSalaryHike of employees who left the company(YES) and those who did not(NO).\n",
    "\n",
    "H1 : There is a significant difference between PercentSalaryHike of employees who left the company(YES) and those who did not(NO).\n",
    "\n",
    "As, p<0.05: reject H0.\n",
    "\n",
    "So, There is a significant difference in PercentSalaryHike of employees who left the company(YES) and those who did not(NO). Mostly the people who left the company have lesser PercentSalaryHike."
   ]
  },
  {
   "cell_type": "markdown",
   "metadata": {},
   "source": [
    "#### Attrition Vs TotalWorkingYears"
   ]
  },
  {
   "cell_type": "code",
   "execution_count": 39,
   "metadata": {},
   "outputs": [
    {
     "name": "stdout",
     "output_type": "stream",
     "text": [
      "Attrition           No  Yes\n",
      "TotalWorkingYears          \n",
      "0.0                 18   14\n",
      "1.0                122  119\n",
      "2.0                 66   27\n",
      "3.0                 99   27\n",
      "4.0                152   36\n",
      "5.0                214   48\n",
      "6.0                307   65\n",
      "7.0                189   52\n",
      "8.0                259   47\n",
      "9.0                255   30\n",
      "10.0               527   75\n",
      "11.0                85   21\n",
      "12.0               129   15\n",
      "13.0                99    9\n",
      "14.0                81   12\n",
      "15.0               105   15\n",
      "16.0               102    9\n",
      "17.0                90    9\n",
      "18.0                68   12\n",
      "19.0                57    9\n",
      "20.0                82    6\n",
      "21.0                99    3\n",
      "22.0                56    6\n",
      "23.0                60    6\n",
      "24.0                45    9\n",
      "25.0                39    3\n",
      "26.0                39    3\n",
      "27.0                21    0\n",
      "28.0                38    3\n",
      "29.0                30    0\n",
      "30.0                21    0\n",
      "31.0                24    3\n",
      "32.0                27    0\n",
      "33.0                18    3\n",
      "34.0                12    3\n",
      "35.0                 9    0\n",
      "36.0                18    0\n",
      "37.0                12    0\n",
      "38.0                 3    0\n",
      "40.0                 0    6\n",
      "239.5 3.3806217185020045e-08\n"
     ]
    }
   ],
   "source": [
    "\n",
    "from scipy.stats import mannwhitneyu\n",
    "chitable = pd.crosstab(dataset.TotalWorkingYears,dataset.Attrition)\n",
    "print(chitable)\n",
    "stats,p = mannwhitneyu(chitable.No,chitable.Yes)\n",
    "print(stats,p)\n"
   ]
  },
  {
   "cell_type": "markdown",
   "metadata": {},
   "source": [
    "H0 : There is no significant difference between TotalWorkingYears of employees who left the company(YES) and those who did not(NO).\n",
    "\n",
    "H1 : There is a significant difference between TotalWorkingYearsof employees who left the company(YES) and those who did not(NO).\n",
    "\n",
    "As, p<0.05: reject H0.\n",
    "\n",
    "So, There is a significant difference in TotalWorkingYears of employees who left the company(YES) and those who did not(NO)."
   ]
  },
  {
   "cell_type": "markdown",
   "metadata": {},
   "source": [
    "## Step 6 – Statistical Tests (Separate T Test)"
   ]
  },
  {
   "cell_type": "markdown",
   "metadata": {},
   "source": [
    "#### Age: Attrition\n"
   ]
  },
  {
   "cell_type": "code",
   "execution_count": 40,
   "metadata": {},
   "outputs": [
    {
     "name": "stdout",
     "output_type": "stream",
     "text": [
      "-7.845365819094182 1.2359566951003511e-11\n"
     ]
    }
   ],
   "source": [
    "from scipy.stats import ttest_ind\n",
    "chitable = pd.crosstab(dataset.Age,dataset.Attrition)\n",
    "stat, p=ttest_ind(chitable.Yes,chitable.No)\n",
    "print(stat, p)"
   ]
  },
  {
   "cell_type": "markdown",
   "metadata": {},
   "source": [
    "H0 : There is no significant difference between age of employees who left the company(YES) and those who did not(NO).\n",
    "\n",
    "H1 : There is a significant difference between age of employees who left the company(YES) and those who did not(NO).\n",
    "\n",
    "As, p<0.05: reject H0.\n",
    "\n",
    "So, There is a significant difference age of employees who left the company(YES) and those who did not(NO)."
   ]
  },
  {
   "cell_type": "markdown",
   "metadata": {},
   "source": [
    "#### Distance FROM hOME VS Attrition"
   ]
  },
  {
   "cell_type": "code",
   "execution_count": 41,
   "metadata": {},
   "outputs": [
    {
     "name": "stdout",
     "output_type": "stream",
     "text": [
      "-4.313988896088271 6.577504638016268e-05\n"
     ]
    }
   ],
   "source": [
    "from scipy.stats import ttest_ind\n",
    "chitable = pd.crosstab(dataset.DistanceFromHome,dataset.Attrition)\n",
    "stat, p=ttest_ind(chitable.Yes,chitable.No)\n",
    "print(stat, p)"
   ]
  },
  {
   "cell_type": "markdown",
   "metadata": {},
   "source": [
    "H0 : There is no significant difference between DistanceFromHome of employees who left the company(YES) and those who did not(NO).\n",
    "\n",
    "H1 : There is a significant difference between DistanceFromHome of employees who left the company(YES) and those who did not(NO).\n",
    "\n",
    "As, p<0.05: reject H0.\n",
    "\n",
    "So, There is a significant difference in DistanceFromHome of employees who left the company(YES) and those who did not(NO)."
   ]
  },
  {
   "cell_type": "markdown",
   "metadata": {},
   "source": [
    "### MonthlyIncome vs Attrition"
   ]
  },
  {
   "cell_type": "code",
   "execution_count": 42,
   "metadata": {},
   "outputs": [
    {
     "name": "stdout",
     "output_type": "stream",
     "text": [
      "-44.864116850298466 0.0\n"
     ]
    }
   ],
   "source": [
    "from scipy.stats import ttest_ind\n",
    "chitable = pd.crosstab(dataset.MonthlyIncome,dataset.Attrition)\n",
    "stat, p=ttest_ind(chitable.Yes,chitable.No)\n",
    "print(stat, p)"
   ]
  },
  {
   "cell_type": "markdown",
   "metadata": {},
   "source": [
    "H0 : There is no significant difference between MonthlyIncome of employees who left the company(YES) and those who did not(NO).\n",
    "\n",
    "H1 : There is a significant difference between MonthlyIncome of employees who left the company(YES) and those who did not(NO).\n",
    "\n",
    "As, p<0.05: reject H0.\n",
    "\n",
    "So, There is a significant difference in MonthlyIncome of employees who left the company(YES) and those who did not(NO)."
   ]
  },
  {
   "cell_type": "markdown",
   "metadata": {},
   "source": [
    "## Stage 7- Correlation"
   ]
  },
  {
   "cell_type": "code",
   "execution_count": 43,
   "metadata": {},
   "outputs": [],
   "source": [
    "## Convert category to numeric for Attrition: Yes-1 and NO-0\n",
    "dataset[\"Attrition\"] = dataset[\"Attrition\"].astype('category')\n",
    "dataset[\"Attrition\"] = dataset[\"Attrition\"].cat.codes\n"
   ]
  },
  {
   "cell_type": "markdown",
   "metadata": {},
   "source": [
    "#### 1)Age"
   ]
  },
  {
   "cell_type": "code",
   "execution_count": 44,
   "metadata": {},
   "outputs": [
    {
     "name": "stdout",
     "output_type": "stream",
     "text": [
      "-0.15839867954096148 5.126598219399243e-26\n"
     ]
    }
   ],
   "source": [
    "from scipy.stats import pearsonr\n",
    "stats,p = pearsonr(dataset[\"Attrition\"],dataset[\"Age\"])\n",
    "print(stats,p)"
   ]
  },
  {
   "cell_type": "markdown",
   "metadata": {},
   "source": [
    "Age is negatively correlated to attrition. Also, as p-value is < 0.05, we reject H0. So, Age and Attrition are ccorreleted to each other. Hence, the yuonger employess have highr atrrition."
   ]
  },
  {
   "cell_type": "code",
   "execution_count": 45,
   "metadata": {},
   "outputs": [
    {
     "name": "stdout",
     "output_type": "stream",
     "text": [
      "-0.009448638515156127 0.5317715668020805\n"
     ]
    }
   ],
   "source": [
    "# 2)DistanceFromHome\n",
    "stats,p = pearsonr(dataset[\"Attrition\"],dataset[\"DistanceFromHome\"])\n",
    "print(stats,p)"
   ]
  },
  {
   "cell_type": "markdown",
   "metadata": {},
   "source": [
    "DistanceFromHome is very weakly negatively correlated to attrition rate. Also, as p-value is > 0.05, we accept H0, i.e DistanceFromHome and attrition rate are not much correlated.)"
   ]
  },
  {
   "cell_type": "code",
   "execution_count": 46,
   "metadata": {},
   "outputs": [
    {
     "name": "stdout",
     "output_type": "stream",
     "text": [
      "-0.01710630705027809 0.2575753930817571\n"
     ]
    }
   ],
   "source": [
    "#3)Education\n",
    "stats,p = pearsonr(dataset[\"Attrition\"],dataset[\"Education\"])\n",
    "print(stats,p)"
   ]
  },
  {
   "cell_type": "markdown",
   "metadata": {},
   "source": [
    "Education is very weakly negatively correlated to attrition rate. Also, as p-value is > 0.05, we accept H0, i.e Education and attrition rate are not much correlated."
   ]
  },
  {
   "cell_type": "code",
   "execution_count": 47,
   "metadata": {},
   "outputs": [
    {
     "name": "stdout",
     "output_type": "stream",
     "text": [
      "0.033153037135465274 0.028192446935107012\n"
     ]
    }
   ],
   "source": [
    "#4)PercentSalaryHike\n",
    "stats,p = pearsonr(dataset[\"Attrition\"],dataset[\"PercentSalaryHike\"])\n",
    "print(stats,p)"
   ]
  },
  {
   "cell_type": "markdown",
   "metadata": {},
   "source": [
    "PercentSalaryHike is weakly positively correlated to attrition rate. Also, as p-value is < 0.05, we reject H0, i.e PercentSalaryHike and attrition rate are positively correlated.So, strangely the employees with more pecent salary hike have more chances of leaving the company."
   ]
  },
  {
   "cell_type": "code",
   "execution_count": 48,
   "metadata": {},
   "outputs": [
    {
     "name": "stdout",
     "output_type": "stream",
     "text": [
      "-0.008164026684984015 0.5889996358312328\n"
     ]
    }
   ],
   "source": [
    "#5) StockOptionLevel\n",
    "stats,p = pearsonr(dataset[\"Attrition\"],dataset[\"StockOptionLevel\"])\n",
    "print(stats,p)"
   ]
  },
  {
   "cell_type": "markdown",
   "metadata": {},
   "source": [
    "StockOptionLevel is very weakly negatively correlated to attrition rate. Also, as p-value is > 0.05, we accept H0, i.e StockOptionLevel and attrition rate are not much correlated."
   ]
  },
  {
   "cell_type": "code",
   "execution_count": 49,
   "metadata": {},
   "outputs": [
    {
     "name": "stdout",
     "output_type": "stream",
     "text": [
      "-0.04758573693081549 0.0016276603635481809\n"
     ]
    }
   ],
   "source": [
    "#6)TrainingTimesLastYear\n",
    "stats,p = pearsonr(dataset[\"Attrition\"],dataset[\"TrainingTimesLastYear\"])\n",
    "print(stats,p)"
   ]
  },
  {
   "cell_type": "markdown",
   "metadata": {},
   "source": [
    "TrainingTimesLastYear is weakly negatively correlated to attrition rate. Also, as p-value is < 0.05, we reject H0, i.e TrainingTimesLastYear and attrition rate are negatively correlated. So, most of the employees who left the company had spent less training times last year."
   ]
  },
  {
   "cell_type": "code",
   "execution_count": 50,
   "metadata": {},
   "outputs": [
    {
     "name": "stdout",
     "output_type": "stream",
     "text": [
      "-0.13300261842521066 9.47611808486492e-19\n"
     ]
    }
   ],
   "source": [
    "#7)YearsAtCompany\n",
    "stats,p = pearsonr(dataset[\"Attrition\"],dataset[\"YearsAtCompany\"])\n",
    "print(stats,p)"
   ]
  },
  {
   "cell_type": "markdown",
   "metadata": {},
   "source": [
    "YearsAtCompany is negatively correlated to attrition rate. Also, as p-value is < 0.05, we reject H0, i.e YearsAtCompany and attrition rate are negatively correlated. So, most of the employees who left the company had spent less Years At Company."
   ]
  },
  {
   "cell_type": "code",
   "execution_count": 51,
   "metadata": {},
   "outputs": [
    {
     "name": "stdout",
     "output_type": "stream",
     "text": [
      "-0.03142315056330791 0.03752293607393637\n"
     ]
    }
   ],
   "source": [
    "#8)YearsSinceLastPromotion\n",
    "stats,p = pearsonr(dataset[\"Attrition\"],dataset[\"YearsSinceLastPromotion\"])\n",
    "print(stats,p)"
   ]
  },
  {
   "cell_type": "markdown",
   "metadata": {},
   "source": [
    "Years Since Last Promotion is negatively correlated to attrition rate. Also, as p-value is < 0.05, we reject H0, i.e Years Since Last Promotion and attrition rate are negatively correlated. So, most of the employees who left the company had less Years Since Last Promotion"
   ]
  },
  {
   "cell_type": "code",
   "execution_count": 52,
   "metadata": {},
   "outputs": [
    {
     "name": "stdout",
     "output_type": "stream",
     "text": [
      "-0.15469153690286755 7.105369646798895e-25\n"
     ]
    }
   ],
   "source": [
    "#9)YearsWithCurrManager\n",
    "stats,p = pearsonr(dataset[\"Attrition\"],dataset[\"YearsWithCurrManager\"])\n",
    "print(stats,p)"
   ]
  },
  {
   "cell_type": "markdown",
   "metadata": {},
   "source": [
    "YearsWithCurrManager is weakly negatively correlated to attrition rate. Also, as p-value is < 0.05, we reject H0, i.e YearsAtCompany and attrition rate are negatively correlated. So, most of the employees who left the company had spent less Years With Curr Manager."
   ]
  },
  {
   "cell_type": "markdown",
   "metadata": {},
   "source": [
    "## Stage:8 - Statistical Test - Chi-square test"
   ]
  },
  {
   "cell_type": "code",
   "execution_count": 53,
   "metadata": {},
   "outputs": [
    {
     "name": "stdout",
     "output_type": "stream",
     "text": [
      "70.07594084831366 6.07019702736392e-16\n"
     ]
    }
   ],
   "source": [
    "#1) BusinessTravel\n",
    "from scipy.stats import chi2_contingency\n",
    "chitable = pd.crosstab(dataset.Attrition,dataset.BusinessTravel)\n",
    "stats,p,dof,expeted = chi2_contingency(chitable)\n",
    "print(stats,p)"
   ]
  },
  {
   "cell_type": "markdown",
   "metadata": {},
   "source": [
    "H0 = There is no dependency between between BusinessTravel and Attrition rate.\n",
    "\n",
    "So, p<0.05, reject H0.\n",
    "\n",
    "So, there is a dependency between BusinessTravel and Attrition rate. Most of the people who travel rarely or are non travels have less attrition rates."
   ]
  },
  {
   "cell_type": "code",
   "execution_count": 54,
   "metadata": {},
   "outputs": [
    {
     "name": "stdout",
     "output_type": "stream",
     "text": [
      "25.89432541916022 2.382970570769315e-06\n"
     ]
    }
   ],
   "source": [
    "#2)Department\n",
    "from scipy.stats import chi2_contingency\n",
    "chitable = pd.crosstab(dataset.Attrition,dataset.Department)\n",
    "stats,p,dof,expeted = chi2_contingency(chitable)\n",
    "print(stats,p)"
   ]
  },
  {
   "cell_type": "markdown",
   "metadata": {},
   "source": [
    "H0 = There is no dependency between between Department and Attrition rate.\n",
    "\n",
    "So, p<0.05, reject H0.\n",
    "\n",
    "So, there is a dependency between Department and Attrition rate."
   ]
  },
  {
   "cell_type": "code",
   "execution_count": 55,
   "metadata": {},
   "outputs": [
    {
     "name": "stdout",
     "output_type": "stream",
     "text": [
      "43.132860148900384 3.472896220587872e-08\n"
     ]
    }
   ],
   "source": [
    "#3)EducationField\n",
    "from scipy.stats import chi2_contingency\n",
    "chitable = pd.crosstab(dataset.Attrition,dataset.EducationField)\n",
    "stats,p,dof,expeted = chi2_contingency(chitable)\n",
    "print(stats,p)"
   ]
  },
  {
   "cell_type": "markdown",
   "metadata": {},
   "source": [
    "H0 = There is no dependency between between EducationField and Attrition rate.\n",
    "\n",
    "So, p<0.05, reject H0.\n",
    "\n",
    "So, there is a dependency between EducationField and Attrition rate."
   ]
  },
  {
   "cell_type": "code",
   "execution_count": 56,
   "metadata": {},
   "outputs": [
    {
     "name": "stdout",
     "output_type": "stream",
     "text": [
      "1.3825823839528295 0.23966176275638887\n"
     ]
    }
   ],
   "source": [
    "#4)Gender\n",
    "from scipy.stats import chi2_contingency\n",
    "chitable = pd.crosstab(dataset.Attrition,dataset.Gender)\n",
    "stats,p,dof,expeted = chi2_contingency(chitable)\n",
    "print(stats,p)"
   ]
  },
  {
   "cell_type": "markdown",
   "metadata": {},
   "source": [
    "H0 = There is no dependency between gender and Attrition rate.\n",
    "\n",
    "As, p>0.05, so, accept H0.\n",
    "\n",
    "So, there is no dependency between gender and attrition rate."
   ]
  },
  {
   "cell_type": "code",
   "execution_count": 57,
   "metadata": {},
   "outputs": [
    {
     "name": "stdout",
     "output_type": "stream",
     "text": [
      "133.85785802925156 8.573051828219379e-30\n"
     ]
    }
   ],
   "source": [
    "#5)MaritalStatus\n",
    "from scipy.stats import chi2_contingency\n",
    "chitable = pd.crosstab(dataset.Attrition,dataset.MaritalStatus)\n",
    "stats,p,dof,expeted = chi2_contingency(chitable)\n",
    "print(stats,p)"
   ]
  },
  {
   "cell_type": "markdown",
   "metadata": {},
   "source": [
    "H0 = There is no dependency between between Marital Status and Attrition rate.\n",
    "\n",
    "So, p<0.05, reject H0.\n",
    "\n",
    "So, there is a dependency between Marital Status and Attrition rate."
   ]
  }
 ],
 "metadata": {
  "kernelspec": {
   "display_name": "Python 3",
   "language": "python",
   "name": "python3"
  },
  "language_info": {
   "codemirror_mode": {
    "name": "ipython",
    "version": 3
   },
   "file_extension": ".py",
   "mimetype": "text/x-python",
   "name": "python",
   "nbconvert_exporter": "python",
   "pygments_lexer": "ipython3",
   "version": "3.7.9"
  },
  "toc": {
   "base_numbering": 1,
   "nav_menu": {},
   "number_sections": true,
   "sideBar": true,
   "skip_h1_title": false,
   "title_cell": "Table of Contents",
   "title_sidebar": "Contents",
   "toc_cell": false,
   "toc_position": {},
   "toc_section_display": true,
   "toc_window_display": false
  }
 },
 "nbformat": 4,
 "nbformat_minor": 4
}
